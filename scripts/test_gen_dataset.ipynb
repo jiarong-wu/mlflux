{
 "cells": [
  {
   "cell_type": "code",
   "execution_count": 1,
   "id": "dd4a625a-b839-4219-91cb-0c5be38e0efb",
   "metadata": {},
   "outputs": [
    {
     "name": "stderr",
     "output_type": "stream",
     "text": [
      "2024-10-11 15:49:17.814840: I tensorflow/core/util/port.cc:153] oneDNN custom operations are on. You may see slightly different numerical results due to floating-point round-off errors from different computation orders. To turn them off, set the environment variable `TF_ENABLE_ONEDNN_OPTS=0`.\n",
      "2024-10-11 15:49:18.742868: E external/local_xla/xla/stream_executor/cuda/cuda_fft.cc:485] Unable to register cuFFT factory: Attempting to register factory for plugin cuFFT when one has already been registered\n",
      "2024-10-11 15:49:18.898533: E external/local_xla/xla/stream_executor/cuda/cuda_dnn.cc:8454] Unable to register cuDNN factory: Attempting to register factory for plugin cuDNN when one has already been registered\n",
      "2024-10-11 15:49:18.909629: E external/local_xla/xla/stream_executor/cuda/cuda_blas.cc:1452] Unable to register cuBLAS factory: Attempting to register factory for plugin cuBLAS when one has already been registered\n",
      "2024-10-11 15:49:18.975026: I tensorflow/core/platform/cpu_feature_guard.cc:210] This TensorFlow binary is optimized to use available CPU instructions in performance-critical operations.\n",
      "To enable the following instructions: AVX2 AVX512F AVX512_VNNI FMA, in other operations, rebuild TensorFlow with the appropriate compiler flags.\n",
      "2024-10-11 15:49:27.047623: W tensorflow/compiler/tf2tensorrt/utils/py_utils.cc:38] TF-TRT Warning: Could not find TensorRT\n"
     ]
    }
   ],
   "source": [
    "import argparse\n",
    "import xarray as xr\n",
    "import numpy as np\n",
    "from mlflux.datafunc import load_psd\n",
    "from mlflux.gotm import read2010\n",
    "import os\n",
    "\n",
    "ows_papa_path = '/home/jw8736/code-5.2.1/cases/ows_papa/' # path where ows_papa distribution can be read\n",
    "filepath = '../data/PSD/fluxes_all_cruises_compilation.nc' # absolute or relative path to the original PSD d/ataset\n",
    "\n",
    "##### This function computes weights based on three variables: U, To-Ta, RH. Can be expanded to more flexible choices. #######\n",
    "from adapt.instance_based import KLIEP\n",
    "def weighting (ds_sample, ds_target, vars_list = ['U','tdiff','rh']):\n",
    "    # Createan array by stacking the specified variables\n",
    "    X_sample = np.hstack([np.array(ds_sample[var]).reshape(-1, 1) for var in vars_list])\n",
    "    X_target = np.hstack([np.array(ds_target[var]).reshape(-1, 1) for var in vars_list])\n",
    "    kliep = KLIEP(kernel=\"rbf\", gamma=[10**(i-3) for i in range(7)], random_state=0)\n",
    "    kliep_weights = kliep.fit_weights(X_sample, X_target)\n",
    "    ds_sample['weight'] = (['time'], kliep_weights)  # Mean of weights is 1\n",
    "    return ds_sample"
   ]
  },
  {
   "cell_type": "code",
   "execution_count": 11,
   "id": "5167cbf8-350b-4a37-8aee-de096752e7af",
   "metadata": {},
   "outputs": [],
   "source": [
    "class Arguments:\n",
    "    def __init__(self, bulkalg, weight, wave, outpath):\n",
    "        self.bulkalg = bulkalg\n",
    "        self.weight = weight\n",
    "        self.wave = wave\n",
    "        self.outpath = outpath\n",
    "\n",
    "args = Arguments('coare3p0', 0, 0, '../data/Processed/')"
   ]
  },
  {
   "cell_type": "code",
   "execution_count": 12,
   "id": "1ea86d75-c23e-4bba-9b25-cf4ec0a1c819",
   "metadata": {},
   "outputs": [
    {
     "name": "stderr",
     "output_type": "stream",
     "text": [
      "/ext3/miniconda3/lib/python3.11/site-packages/xarray/coding/times.py:254: RuntimeWarning: invalid value encountered in cast\n",
      "  flat_num_dates_ns_int = (flat_num_dates * _NS_PER_TIME_DELTA[delta]).astype(\n",
      "/ext3/miniconda3/lib/python3.11/site-packages/xarray/coding/times.py:254: RuntimeWarning: invalid value encountered in cast\n",
      "  flat_num_dates_ns_int = (flat_num_dates * _NS_PER_TIME_DELTA[delta]).astype(\n"
     ]
    },
    {
     "name": "stdout",
     "output_type": "stream",
     "text": [
      "Number of samples: 10079\n",
      "No weighting!\n",
      "Directory ../data/Processed/ already exists.\n"
     ]
    },
    {
     "name": "stderr",
     "output_type": "stream",
     "text": [
      "/ext3/miniconda3/lib/python3.11/site-packages/aerobulk/flux.py:280: UserWarning: Checking for misaligned nans and values outside of the valid range is performed by default, but reduces performance. \n",
      "If you are sure your data is valid you can deactivate these checks by setting `input_range_check=False`\n",
      "  warnings.warn(performance_msg)\n",
      "/ext3/miniconda3/lib/python3.11/site-packages/xarray/coding/times.py:618: RuntimeWarning: invalid value encountered in cast\n",
      "  int_num = np.asarray(num, dtype=np.int64)\n"
     ]
    }
   ],
   "source": [
    "ds_psd = load_psd(filepath, algo=args.bulkalg)\n",
    "ds_psd['tauby'] = xr.zeros_like(ds_psd['taubx']) # bulk formula doesn't predict tauy\n",
    "\n",
    "# Optional weighting based on different target\n",
    "if args.weight == 1:\n",
    "    # Read in target files\n",
    "    df = read2010(ows_papa_path, datetimeformat='%Y-%m-%d %H:%M:%S') \n",
    "    df_ = df.set_index('datetime'); ds = xr.Dataset.from_dataframe(df_)\n",
    "    ds_papa = ds.sel(datetime=slice('2012-01-01','2012-12-31'))\n",
    "    # Adjust variable names\n",
    "    ds_papa['U'] = ((ds_papa.ux)**2+(ds_papa.uy)**2)**0.5\n",
    "    ds_papa['tdiff'] = ds_papa.sst - ds_papa.t\n",
    "    ds_psd['tdiff'] = ds_psd.tsea - ds_psd.tair\n",
    "    # Compute weights\n",
    "    ds_psd = weighting (ds_psd, ds_papa, vars_list = ['U','tdiff','rh'])       \n",
    "elif args.weight == 2:\n",
    "    print('Global weighting not yet implemented!')       \n",
    "else:\n",
    "    print('No weighting!')\n",
    "          \n",
    "# Same to desired directory and name\n",
    "if not os.path.exists(args.outpath):\n",
    "    # Create the directory and any necessary parent directories\n",
    "    os.makedirs(args.outpath)\n",
    "    print(f\"Directory {args.outpath} created.\")\n",
    "else:\n",
    "    print(f\"Directory {args.outpath} already exists.\")\n",
    "\n",
    "ds_psd.attrs['bulkalg'] = args.bulkalg\n",
    "ds_psd.attrs['weight'] = args.weight\n",
    "ds_psd.attrs['wave'] = args.wave\n",
    "ds_psd.to_netcdf(args.outpath + f'psd_{args.bulkalg}_weight{args.weight}_wave{args.wave}.nc')"
   ]
  },
  {
   "cell_type": "code",
   "execution_count": 13,
   "id": "a08b6f03-c32e-460f-bc7f-6b0bd0cb9769",
   "metadata": {},
   "outputs": [
    {
     "name": "stderr",
     "output_type": "stream",
     "text": [
      "/ext3/miniconda3/lib/python3.11/site-packages/xarray/coding/times.py:254: RuntimeWarning: invalid value encountered in cast\n",
      "  flat_num_dates_ns_int = (flat_num_dates * _NS_PER_TIME_DELTA[delta]).astype(\n"
     ]
    }
   ],
   "source": [
    "ds = xr.load_dataset('/home/jw8736/mlflux/data/Processed/psd_coare3p0_weight0_wave0.nc')"
   ]
  },
  {
   "cell_type": "code",
   "execution_count": null,
   "id": "d1719f44-121f-4fbf-a0ae-7d1e44dda3ee",
   "metadata": {},
   "outputs": [],
   "source": []
  }
 ],
 "metadata": {
  "kernelspec": {
   "display_name": "mlflux",
   "language": "python",
   "name": "mlflux"
  },
  "language_info": {
   "codemirror_mode": {
    "name": "ipython",
    "version": 3
   },
   "file_extension": ".py",
   "mimetype": "text/x-python",
   "name": "python",
   "nbconvert_exporter": "python",
   "pygments_lexer": "ipython3",
   "version": "3.11.5"
  }
 },
 "nbformat": 4,
 "nbformat_minor": 5
}
