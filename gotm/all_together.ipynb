{
 "cells": [
  {
   "cell_type": "code",
   "execution_count": null,
   "id": "2b588775-eda5-480b-9e7f-657a1f2cfcd6",
   "metadata": {},
   "outputs": [],
   "source": []
  },
  {
   "cell_type": "code",
   "execution_count": null,
   "id": "e6965912-4ad4-4cd0-bc59-ca326a22b7e2",
   "metadata": {},
   "outputs": [],
   "source": []
  },
  {
   "cell_type": "code",
   "execution_count": null,
   "id": "cba36240-8531-4191-a21f-e288f65a79d8",
   "metadata": {},
   "outputs": [],
   "source": [
    "##### Third phase\n",
    "ENSEM = 20\n",
    "n1 = 281 # 140 days\n",
    "n2 = 200 \n",
    "start_date = pd.Timestamp('2012-08-21') \n",
    "folder = '/home/jw8736/test-gotm/ensem/2012-08-21_2013-01-10/'"
   ]
  }
 ],
 "metadata": {
  "kernelspec": {
   "display_name": "Python 3 (ipykernel)",
   "language": "python",
   "name": "python3"
  },
  "language_info": {
   "codemirror_mode": {
    "name": "ipython",
    "version": 3
   },
   "file_extension": ".py",
   "mimetype": "text/x-python",
   "name": "python",
   "nbconvert_exporter": "python",
   "pygments_lexer": "ipython3",
   "version": "3.11.7"
  }
 },
 "nbformat": 4,
 "nbformat_minor": 5
}
