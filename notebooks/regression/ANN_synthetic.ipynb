{
 "cells": [
  {
   "cell_type": "code",
   "execution_count": 45,
   "metadata": {},
   "outputs": [],
   "source": [
    "# from synthetic import generate_synthetic_data\n",
    "import numpy as np\n",
    "from torch.utils.data import Dataset, DataLoader\n",
    "import torch.nn as nn\n",
    "import torch\n",
    "import torch.optim as optim\n",
    "import matplotlib.pyplot as plt\n"
   ]
  },
  {
   "cell_type": "code",
   "execution_count": 102,
   "metadata": {},
   "outputs": [],
   "source": [
    "from mlflux.synthetic import generate_synthetic_data\n",
    "from mlflux.ann import sample_weights"
   ]
  },
  {
   "cell_type": "code",
   "execution_count": 161,
   "metadata": {},
   "outputs": [],
   "source": [
    "class FluxDataset(Dataset):\n",
    "    def __init__(self, N=10000, choice='momentum'):\n",
    "        \n",
    "        # Generate data\n",
    "        self.x1, self.x2, self.y1, self.y2 = generate_synthetic_data(N=N)\n",
    "        self.X = torch.tensor(np.hstack([np.reshape(self.x1,(-1,1)),np.reshape(self.x2,(-1,1))]).astype('float32'))\n",
    "        \n",
    "        # A uniform grid flattened to make prediction maps\n",
    "        # After making the prediction, Y_pred.reshape([100,100])\n",
    "        x1_vis = np.linspace(0,20,100); x2_vis = np.linspace(-2,2,100)\n",
    "        x1_mesh, x2_mesh = np.meshgrid(x1_vis,x2_vis,indexing='ij')\n",
    "        X_uniform = np.hstack([np.reshape(x1_mesh,(-1,1)), np.reshape(x2_mesh,(-1,1))])\n",
    "        self.X_uniform = torch.tensor(X_uniform.astype('float32'))\n",
    "        \n",
    "        # Choice y\n",
    "        if choice == 'momentum':\n",
    "            self.Y = torch.tensor(np.reshape(self.y1['sample'],(-1,1)).astype('float32'))\n",
    "            self.min_MSE = np.average((self.y1['sample']-self.y1['mean'])**2)**0.5\n",
    "        if choice == 'heat':\n",
    "            self.Y = torch.tensor(np.reshape(self.y2['sample'],(-1,1)).astype('float32'))\n",
    "            self.min_MSE = np.average((self.y2['sample']-self.y2['mean'])**2)**0.5\n",
    "        \n",
    "    def __len__(self):\n",
    "        return len(self.x1)\n",
    "\n",
    "    def __getitem__(self, idx):\n",
    "        return self.X[idx], self.Y[idx]\n",
    "    \n",
    "class FluxDataset1D(Dataset):\n",
    "    def __init__(self, N=10000, choice='momentum'):\n",
    "        \n",
    "        # Generate data\n",
    "        self.x1, self.x2, self.y1, self.y2 = generate_synthetic_data(N=N)\n",
    "        self.X = np.reshape(self.x1,(-1,1)).astype('float32')\n",
    "        \n",
    "        # A uniform grid flattened to make prediction maps\n",
    "        # After making the prediction, Y_pred.reshape([100,100])\n",
    "        x1_vis = np.linspace(0,20,100)\n",
    "        X_uniform = np.reshape(x1_vis,(-1,1))\n",
    "        self.X_uniform = torch.tensor(X_uniform.astype('float32'))\n",
    "        \n",
    "        # Choice y\n",
    "        if choice == 'momentum':\n",
    "            self.Y = torch.tensor(np.reshape(self.y1['sample'],(-1,1)).astype('float32'))\n",
    "            self.min_MSE = np.average((self.y1['sample']-self.y1['mean'])**2)\n",
    "        if choice == 'heat':\n",
    "            self.Y = torch.tensor(np.reshape(self.y2['sample'],(-1,1)).astype('float32'))\n",
    "            self.min_MSE = np.average((self.y2['sample']-self.y2['mean'])**2)\n",
    "            \n",
    "        # Weights?\n",
    "        self.W = sample_weights(self.X, N)\n",
    "        \n",
    "    def __len__(self):\n",
    "        return len(self.x1)\n",
    "\n",
    "    def __getitem__(self, idx):\n",
    "        return self.X[idx], self.Y[idx], self.W[idx]"
   ]
  },
  {
   "cell_type": "code",
   "execution_count": 147,
   "metadata": {},
   "outputs": [],
   "source": [
    "# dataset = FluxDataset(N=100000, choice='momentum')\n",
    "dataset = FluxDataset1D(N=10000, choice='momentum')\n",
    "dataloader = DataLoader(dataset, batch_size=100, shuffle=True)"
   ]
  },
  {
   "cell_type": "code",
   "execution_count": 177,
   "metadata": {},
   "outputs": [],
   "source": [
    "from mlflux.ann import ANN\n",
    "ann_para = {'n_in':1,'n_out':1,'hidden_channels':[16]}\n",
    "mean_net = ANN(**ann_para)\n",
    "var_net = ANN(**ann_para)\n",
    "# mean_net.to('mps')\n",
    "# var_net.to('mps')"
   ]
  },
  {
   "cell_type": "code",
   "execution_count": 179,
   "metadata": {},
   "outputs": [
    {
     "data": {
      "text/plain": [
       "ANN(\n",
       "  (layers): Sequential(\n",
       "    (0): Linear(in_features=1, out_features=16, bias=True)\n",
       "    (1): Sigmoid()\n",
       "    (2): Linear(in_features=16, out_features=1, bias=True)\n",
       "  )\n",
       ")"
      ]
     },
     "execution_count": 179,
     "metadata": {},
     "output_type": "execute_result"
    }
   ],
   "source": [
    "mean_net"
   ]
  },
  {
   "cell_type": "code",
   "execution_count": null,
   "metadata": {},
   "outputs": [],
   "source": []
  },
  {
   "cell_type": "code",
   "execution_count": 174,
   "metadata": {},
   "outputs": [
    {
     "name": "stdout",
     "output_type": "stream",
     "text": [
      "Epoch [1/100], Loss: -0.00972162\n",
      "Epoch [2/100], Loss: -0.01007962\n",
      "Epoch [3/100], Loss: -0.01059598\n",
      "Epoch [4/100], Loss: -0.01117932\n",
      "Epoch [5/100], Loss: -0.01193705\n",
      "Epoch [6/100], Loss: -0.01293425\n",
      "Epoch [7/100], Loss: -0.01423580\n",
      "Epoch [8/100], Loss: -0.01615425\n",
      "Epoch [9/100], Loss: -0.01944661\n",
      "Epoch [10/100], Loss: -0.02474968\n",
      "Epoch [11/100], Loss: -0.02574736\n",
      "Epoch [12/100], Loss: -0.02635626\n",
      "Epoch [13/100], Loss: -0.02697593\n",
      "Epoch [14/100], Loss: -0.02770931\n",
      "Epoch [15/100], Loss: -0.02827474\n",
      "Epoch [16/100], Loss: -0.02838495\n",
      "Epoch [17/100], Loss: -0.02883822\n",
      "Epoch [18/100], Loss: -0.02959830\n",
      "Epoch [19/100], Loss: -0.02997048\n",
      "Epoch [20/100], Loss: -0.03043605\n",
      "Epoch [21/100], Loss: -0.03070475\n",
      "Epoch [22/100], Loss: -0.03059426\n",
      "Epoch [23/100], Loss: -0.03115960\n",
      "Epoch [24/100], Loss: -0.03135481\n",
      "Epoch [25/100], Loss: -0.03243886\n",
      "Epoch [26/100], Loss: -0.03229012\n",
      "Epoch [27/100], Loss: -0.03263301\n",
      "Epoch [28/100], Loss: -0.03307497\n",
      "Epoch [29/100], Loss: -0.03304059\n",
      "Epoch [30/100], Loss: -0.03309695\n",
      "Epoch [31/100], Loss: -0.03358436\n",
      "Epoch [32/100], Loss: -0.03374448\n",
      "Epoch [33/100], Loss: -0.03391484\n",
      "Epoch [34/100], Loss: -0.03322329\n",
      "Epoch [35/100], Loss: -0.03304355\n",
      "Epoch [36/100], Loss: -0.03293528\n",
      "Epoch [37/100], Loss: -0.03395354\n",
      "Epoch [38/100], Loss: -0.03415748\n",
      "Epoch [39/100], Loss: -0.03355087\n",
      "Epoch [40/100], Loss: -0.03331857\n",
      "Epoch [41/100], Loss: -0.03354111\n",
      "Epoch [42/100], Loss: -0.03310897\n",
      "Epoch [43/100], Loss: -0.03132468\n",
      "Epoch [44/100], Loss: -0.02503979\n",
      "Epoch [45/100], Loss: -0.03180041\n",
      "Epoch [46/100], Loss: -0.03371756\n",
      "Epoch [47/100], Loss: -0.03369179\n",
      "Epoch [48/100], Loss: -0.03394827\n",
      "Epoch [49/100], Loss: -0.03330462\n",
      "Epoch [50/100], Loss: -0.03351489\n",
      "Epoch [51/100], Loss: -0.03491724\n",
      "Epoch [52/100], Loss: -0.03503736\n",
      "Epoch [53/100], Loss: -0.03507656\n",
      "Epoch [54/100], Loss: -0.03508206\n",
      "Epoch [55/100], Loss: -0.03508657\n",
      "Epoch [56/100], Loss: -0.03504949\n",
      "Epoch [57/100], Loss: -0.03507219\n",
      "Epoch [58/100], Loss: -0.03508694\n",
      "Epoch [59/100], Loss: -0.03498861\n",
      "Epoch [60/100], Loss: -0.03506523\n",
      "Epoch [61/100], Loss: -0.03506394\n",
      "Epoch [62/100], Loss: -0.03506064\n",
      "Epoch [63/100], Loss: -0.03503446\n",
      "Epoch [64/100], Loss: -0.03502366\n",
      "Epoch [65/100], Loss: -0.03502021\n",
      "Epoch [66/100], Loss: -0.03504831\n",
      "Epoch [67/100], Loss: -0.03499814\n",
      "Epoch [68/100], Loss: -0.03496042\n",
      "Epoch [69/100], Loss: -0.03503885\n",
      "Epoch [70/100], Loss: -0.03501040\n",
      "Epoch [71/100], Loss: -0.03503077\n",
      "Epoch [72/100], Loss: -0.03501025\n",
      "Epoch [73/100], Loss: -0.03504774\n",
      "Epoch [74/100], Loss: -0.03508954\n",
      "Epoch [75/100], Loss: -0.03505697\n",
      "Epoch [76/100], Loss: -0.03519173\n",
      "Epoch [77/100], Loss: -0.03519741\n",
      "Epoch [78/100], Loss: -0.03520088\n",
      "Epoch [79/100], Loss: -0.03519619\n",
      "Epoch [80/100], Loss: -0.03519688\n",
      "Epoch [81/100], Loss: -0.03519239\n",
      "Epoch [82/100], Loss: -0.03520212\n",
      "Epoch [83/100], Loss: -0.03520394\n",
      "Epoch [84/100], Loss: -0.03519608\n",
      "Epoch [85/100], Loss: -0.03518846\n",
      "Epoch [86/100], Loss: -0.03519489\n",
      "Epoch [87/100], Loss: -0.03519426\n",
      "Epoch [88/100], Loss: -0.03521380\n",
      "Epoch [89/100], Loss: -0.03521498\n",
      "Epoch [90/100], Loss: -0.03521449\n",
      "Epoch [91/100], Loss: -0.03521544\n",
      "Epoch [92/100], Loss: -0.03521382\n",
      "Epoch [93/100], Loss: -0.03521525\n",
      "Epoch [94/100], Loss: -0.03521440\n",
      "Epoch [95/100], Loss: -0.03521460\n",
      "Epoch [96/100], Loss: -0.03521528\n",
      "Epoch [97/100], Loss: -0.03521597\n",
      "Epoch [98/100], Loss: -0.03521436\n",
      "Epoch [99/100], Loss: -0.03521504\n",
      "Epoch [100/100], Loss: -0.03521544\n"
     ]
    }
   ],
   "source": [
    "''' Variance network trained on log likelihood '''\n",
    "\n",
    "optimizer_joint = optim.Adam(list(var_net.parameters())+list(mean_net.parameters()), lr=5e-3)\n",
    "# optimizer_joint = optim.Adam(var_net.parameters(), lr=1e-3)\n",
    "num_epochs = 100\n",
    "scheduler = optim.lr_scheduler.MultiStepLR(optimizer_joint, milestones=[int(num_epochs/2), int(num_epochs*3/4), int(num_epochs*7/8)], gamma=0.1)\n",
    "log = {'LLLoss': [], 'var': [], 'mean': [], 'lr': []}\n",
    "\n",
    "loss = nn.GaussianNLLLoss(reduction='none')\n",
    "\n",
    "for epoch in range(num_epochs):\n",
    "    LLLoss = 0.\n",
    "    for i, (inputs, targets, w) in enumerate(dataloader):\n",
    "        optimizer_joint.zero_grad()\n",
    "        # Forward pass\n",
    "        mean = mean_net(inputs)\n",
    "        var = (var_net(inputs))**2 # squared to predict positive variance\n",
    "        # likelihood = loss(targets, mean, var).mean()   \n",
    "        likelihood = torch.sum(loss(targets, mean, var)*w)   \n",
    "        # Backward and optimize (var and mean net)\n",
    "        likelihood.backward() # TODO: Only need to call this once right?\n",
    "        optimizer_joint.step()\n",
    "        LLLoss += likelihood.item() * len(inputs)   \n",
    "        \n",
    "    scheduler.step()     \n",
    "\n",
    "    LLLoss = LLLoss / len(dataset)\n",
    "    var = (var_net(dataset.X_uniform))**2\n",
    "    mean = mean_net(dataset.X_uniform)\n",
    "    log['LLLoss'].append(LLLoss)\n",
    "    log['var'].append(var.detach())\n",
    "    log['mean'].append(mean.detach())\n",
    "    log['lr'].append(scheduler.get_lr())\n",
    "    \n",
    "    # Print loss after every epoch\n",
    "    print(f\"Epoch [{epoch+1}/{num_epochs}], Loss: {LLLoss:.8f}\")"
   ]
  },
  {
   "cell_type": "code",
   "execution_count": 175,
   "metadata": {},
   "outputs": [
    {
     "data": {
      "text/plain": [
       "Text(0.5, 0, 'Epoch')"
      ]
     },
     "execution_count": 175,
     "metadata": {},
     "output_type": "execute_result"
    },
    {
     "data": {
      "image/png": "[encoded data removed]",
      "text/plain": [
       "<Figure size 800x800 with 2 Axes>"
      ]
     },
     "metadata": {},
     "output_type": "display_data"
    }
   ],
   "source": [
    "fig, axes = plt.subplots(2,1,sharex=True,figsize=[4,4],dpi=200)\n",
    "axes[0].plot(log['LLLoss'])\n",
    "axes[0].set_ylabel('Loss')\n",
    "axes[1].plot(log['lr'])\n",
    "axes[1].set_ylabel('Learning rate')\n",
    "axes[1].set_xlabel('Epoch')"
   ]
  },
  {
   "cell_type": "code",
   "execution_count": 204,
   "metadata": {},
   "outputs": [],
   "source": [
    "x1_vis = np.linspace(0,20,100); x2_vis = np.linspace(-2,2,100)\n",
    "x1_mesh,x2_mesh = np.meshgrid(x1_vis,x2_vis,indexing='ij')"
   ]
  },
  {
   "cell_type": "code",
   "execution_count": 16,
   "metadata": {},
   "outputs": [],
   "source": [
    "def plot_epoch(epoch=10, xaxis=1):\n",
    "    ''' Input:\n",
    "            xaxis: the x axis variable to display. The prediction of the mean is then \n",
    "            averaged along the other dimensions. 0: wind speed; 1: temp diff. \n",
    "    '''\n",
    "    plt.figure(figsize=(4,4))\n",
    "    plt.plot(dataset.X[:2000, xaxis], dataset.Y[:2000], '.', label='training \\ndata')\n",
    "\n",
    "    mean = log_var['mean'][epoch]\n",
    "    std = np.sqrt(log_var['var'][epoch])\n",
    "\n",
    "    dims = [0,1] # for total dimension 2. TODO: refine it later\n",
    "    dims.remove(xaxis) # axis except for the one specified\n",
    "    mean_aver = np.average(mean.reshape(100,100), axis=tuple(dims)); std_aver = np.average(std.reshape(100,100), axis=tuple(dims))\n",
    "    \n",
    "    if xaxis == 0:\n",
    "        xplot = dataset.X_uniform[:,xaxis].reshape(100,100)[0]\n",
    "    elif xaxis == 1:\n",
    "        xplot = dataset.X_uniform[:,xaxis].reshape(100,100)[:,0]\n",
    "        \n",
    "    plt.plot(xplot,mean_aver,'-', lw=1, color='k', label='Expectation')\n",
    "    plt.plot(xplot,mean_aver-std_aver,'--', lw=1, color='k', label='$\\pm \\sigma$')\n",
    "    plt.plot(xplot,mean_aver+std_aver,'--', lw=1, color='k')\n",
    "        \n",
    "#     plt.xlim([0,20])\n",
    "#     plt.xticks([0,5,10,15,20])\n",
    "#     plt.ylim([0,0.8])\n",
    "    plt.xlabel('$x$')\n",
    "    plt.ylabel('$y$')\n",
    "    plt.legend(loc='upper left', fontsize=12)\n",
    "    plt.title('Prediction by ANN')"
   ]
  },
  {
   "cell_type": "code",
   "execution_count": 100,
   "metadata": {},
   "outputs": [],
   "source": [
    "def plot_epoch_1D(epoch=10):\n",
    "\n",
    "    plt.figure(figsize=(4,4))\n",
    "    plt.plot(dataset.X[:], dataset.Y[:], '.', markersize=0.5, label='training data')\n",
    "\n",
    "    mean = log_var['mean'][epoch]\n",
    "    std = np.sqrt(log_var['var'][epoch])\n",
    "\n",
    "    mean_aver = mean; std_aver = std\n",
    "    xplot = dataset.X_uniform\n",
    "        \n",
    "    plt.plot(xplot,mean_aver,'-', lw=1, color='k', label='Expectation')\n",
    "    plt.plot(xplot,mean_aver-std_aver,'--', lw=1, color='k', label='$\\pm \\sigma$')\n",
    "    plt.plot(xplot,mean_aver+std_aver,'--', lw=1, color='k')\n",
    "        \n",
    "    plt.xlim([0,20])\n",
    "    plt.xticks([0,5,10,15,20])\n",
    "    plt.ylim([0,0.8])\n",
    "    plt.xlabel('$x$')\n",
    "    plt.ylabel('$y$')\n",
    "    plt.legend(loc='upper left', fontsize=12)\n",
    "    plt.title('Prediction by ANN Epoch %g' %epoch)"
   ]
  },
  {
   "cell_type": "code",
   "execution_count": 151,
   "metadata": {},
   "outputs": [
    {
     "data": {
      "image/png": "[encoded data removed]",
      "text/plain": [
       "<Figure size 400x400 with 1 Axes>"
      ]
     },
     "metadata": {},
     "output_type": "display_data"
    }
   ],
   "source": [
    "plot_epoch_1D(98)"
   ]
  },
  {
   "cell_type": "code",
   "execution_count": 155,
   "metadata": {},
   "outputs": [
    {
     "name": "stdout",
     "output_type": "stream",
     "text": [
      "Animation at FPS=5 will last for 20.0 seconds\n"
     ]
    }
   ],
   "source": [
    "create_animation(plot_epoch_1D, idx=np.arange(0,100,1), filename='figures/momentum_1D_Batch100_scheduler.gif', FPS=5)"
   ]
  },
  {
   "cell_type": "code",
   "execution_count": 302,
   "metadata": {},
   "outputs": [],
   "source": [
    "def plot_epoch_map(epoch=10):\n",
    "    ''' Input:\n",
    "            xaxis: the x axis variable to display. The prediction of the mean is then \n",
    "            averaged along the other dimensions. 0: wind speed; 1: temp diff. \n",
    "    '''\n",
    "    plt.figure(figsize=(4,3))\n",
    "    # plt.plot(dataset.X[:2000, xaxis], dataset.Y[:2000], '.', label='training \\ndata')\n",
    "    img = plt.pcolormesh(dataset.X_uniform[:,0].numpy().reshape(100,100), dataset.X_uniform[:,1].numpy().reshape(100,100),\n",
    "                         log_var['mean'][epoch].reshape(100,100), vmax=1, vmin=0)\n",
    "    plt.xlabel('$x_1$')\n",
    "    plt.ylabel('$x_2$')\n",
    "#     plt.legend(loc='upper left', fontsize=12)\n",
    "    plt.colorbar(img, ticks=[0,1])\n",
    "    plt.title('Epoch %g' %epoch)"
   ]
  },
  {
   "cell_type": "code",
   "execution_count": 296,
   "metadata": {},
   "outputs": [
    {
     "data": {
      "image/png": "[encoded data removed]",
      "text/plain": [
       "<Figure size 400x300 with 2 Axes>"
      ]
     },
     "metadata": {},
     "output_type": "display_data"
    }
   ],
   "source": [
    "plot_epoch_map(40)"
   ]
  },
  {
   "cell_type": "code",
   "execution_count": 280,
   "metadata": {},
   "outputs": [
    {
     "data": {
      "text/plain": [
       "Text(0.5, 1.0, 'True $\\\\mu$')"
      ]
     },
     "execution_count": 280,
     "metadata": {},
     "output_type": "execute_result"
    },
    {
     "data": {
      "image/png": "[encoded data removed]",
      "text/plain": [
       "<Figure size 800x600 with 2 Axes>"
      ]
     },
     "metadata": {},
     "output_type": "display_data"
    }
   ],
   "source": [
    "plt.figure(figsize=(4,3), dpi=200)\n",
    "X = dataset.X_uniform[:,0].numpy().reshape(100,100)\n",
    "Y = dataset.X_uniform[:,1].numpy().reshape(100,100)\n",
    "img = plt.pcolormesh(X, Y, 0.0015*X**2, vmax=1, vmin=0)\n",
    "plt.xlabel('$x_1$')\n",
    "plt.ylabel('$x_2$')\n",
    "plt.colorbar(img, ticks=[0,1])\n",
    "plt.title('True $\\mu$')"
   ]
  },
  {
   "cell_type": "code",
   "execution_count": 24,
   "metadata": {},
   "outputs": [
    {
     "name": "stdout",
     "output_type": "stream",
     "text": [
      "Animation at FPS=10 will last for 5.0 seconds\n"
     ]
    }
   ],
   "source": []
  },
  {
   "cell_type": "code",
   "execution_count": 23,
   "metadata": {},
   "outputs": [],
   "source": [
    "import matplotlib.pyplot as plt\n",
    "import matplotlib\n",
    "import numpy as np\n",
    "import os\n",
    "from PIL import Image\n",
    "from mpl_toolkits.axes_grid1 import make_axes_locatable\n",
    "\n",
    "def create_animation(fun, idx, filename='my-animation.gif', dpi=200, FPS=18, loop=0):\n",
    "    '''\n",
    "    See https://pythonprogramming.altervista.org/png-to-gif/\n",
    "    fun(i) - a function creating one snapshot, has only one input:\n",
    "        - number of frame i\n",
    "    idx - range of frames, i in idx\n",
    "    FPS - frames per second\n",
    "    filename - animation name\n",
    "    dpi - set 300 or so to increase quality\n",
    "    loop - number of repeats of the gif\n",
    "    '''\n",
    "    frames = []\n",
    "    for i in idx:\n",
    "        fun(i)\n",
    "        plt.savefig('.frame.png', dpi=dpi, bbox_inches='tight')\n",
    "        plt.close()\n",
    "        frames.append(Image.open('.frame.png').convert('RGB'))\n",
    "        print(f'Frame {i} is created', end='\\r')\n",
    "    os.system('rm .frame.png')\n",
    "    # How long to persist one frame in milliseconds to have a desired FPS\n",
    "    duration = 1000 / FPS\n",
    "    print(f'Animation at FPS={FPS} will last for {len(idx)/FPS} seconds')\n",
    "    frames[0].save(\n",
    "        filename, format='GIF',\n",
    "        append_images=frames[1:],\n",
    "        save_all=True,\n",
    "        duration=duration,\n",
    "        loop=loop)"
   ]
  },
  {
   "cell_type": "code",
   "execution_count": 303,
   "metadata": {},
   "outputs": [
    {
     "name": "stderr",
     "output_type": "stream",
     "text": [
      "No artists with labels found to put in legend.  Note that artists whose label start with an underscore are ignored when legend() is called with no argument.\n"
     ]
    },
    {
     "name": "stderr",
     "output_type": "stream",
     "text": [
      "No artists with labels found to put in legend.  Note that artists whose label start with an underscore are ignored when legend() is called with no argument.\n",
      "No artists with labels found to put in legend.  Note that artists whose label start with an underscore are ignored when legend() is called with no argument.\n",
      "No artists with labels found to put in legend.  Note that artists whose label start with an underscore are ignored when legend() is called with no argument.\n"
     ]
    },
    {
     "name": "stdout",
     "output_type": "stream",
     "text": [
      "Frame 2 is created\r"
     ]
    },
    {
     "name": "stderr",
     "output_type": "stream",
     "text": [
      "No artists with labels found to put in legend.  Note that artists whose label start with an underscore are ignored when legend() is called with no argument.\n",
      "No artists with labels found to put in legend.  Note that artists whose label start with an underscore are ignored when legend() is called with no argument.\n",
      "No artists with labels found to put in legend.  Note that artists whose label start with an underscore are ignored when legend() is called with no argument.\n"
     ]
    },
    {
     "name": "stdout",
     "output_type": "stream",
     "text": [
      "Frame 5 is created\r"
     ]
    },
    {
     "name": "stderr",
     "output_type": "stream",
     "text": [
      "No artists with labels found to put in legend.  Note that artists whose label start with an underscore are ignored when legend() is called with no argument.\n",
      "No artists with labels found to put in legend.  Note that artists whose label start with an underscore are ignored when legend() is called with no argument.\n"
     ]
    },
    {
     "name": "stdout",
     "output_type": "stream",
     "text": [
      "Frame 7 is created\r"
     ]
    },
    {
     "name": "stderr",
     "output_type": "stream",
     "text": [
      "No artists with labels found to put in legend.  Note that artists whose label start with an underscore are ignored when legend() is called with no argument.\n",
      "No artists with labels found to put in legend.  Note that artists whose label start with an underscore are ignored when legend() is called with no argument.\n",
      "No artists with labels found to put in legend.  Note that artists whose label start with an underscore are ignored when legend() is called with no argument.\n"
     ]
    },
    {
     "name": "stdout",
     "output_type": "stream",
     "text": [
      "Frame 10 is created\r"
     ]
    },
    {
     "name": "stderr",
     "output_type": "stream",
     "text": [
      "No artists with labels found to put in legend.  Note that artists whose label start with an underscore are ignored when legend() is called with no argument.\n",
      "No artists with labels found to put in legend.  Note that artists whose label start with an underscore are ignored when legend() is called with no argument.\n",
      "No artists with labels found to put in legend.  Note that artists whose label start with an underscore are ignored when legend() is called with no argument.\n"
     ]
    },
    {
     "name": "stdout",
     "output_type": "stream",
     "text": [
      "Frame 13 is created\r"
     ]
    },
    {
     "name": "stderr",
     "output_type": "stream",
     "text": [
      "No artists with labels found to put in legend.  Note that artists whose label start with an underscore are ignored when legend() is called with no argument.\n",
      "No artists with labels found to put in legend.  Note that artists whose label start with an underscore are ignored when legend() is called with no argument.\n"
     ]
    },
    {
     "name": "stdout",
     "output_type": "stream",
     "text": [
      "Frame 16 is created\r"
     ]
    },
    {
     "name": "stderr",
     "output_type": "stream",
     "text": [
      "No artists with labels found to put in legend.  Note that artists whose label start with an underscore are ignored when legend() is called with no argument.\n",
      "No artists with labels found to put in legend.  Note that artists whose label start with an underscore are ignored when legend() is called with no argument.\n",
      "No artists with labels found to put in legend.  Note that artists whose label start with an underscore are ignored when legend() is called with no argument.\n",
      "No artists with labels found to put in legend.  Note that artists whose label start with an underscore are ignored when legend() is called with no argument.\n"
     ]
    },
    {
     "name": "stdout",
     "output_type": "stream",
     "text": [
      "Frame 19 is created\r"
     ]
    },
    {
     "name": "stderr",
     "output_type": "stream",
     "text": [
      "No artists with labels found to put in legend.  Note that artists whose label start with an underscore are ignored when legend() is called with no argument.\n",
      "No artists with labels found to put in legend.  Note that artists whose label start with an underscore are ignored when legend() is called with no argument.\n",
      "No artists with labels found to put in legend.  Note that artists whose label start with an underscore are ignored when legend() is called with no argument.\n"
     ]
    },
    {
     "name": "stdout",
     "output_type": "stream",
     "text": [
      "Frame 22 is created\r"
     ]
    },
    {
     "name": "stderr",
     "output_type": "stream",
     "text": [
      "No artists with labels found to put in legend.  Note that artists whose label start with an underscore are ignored when legend() is called with no argument.\n",
      "No artists with labels found to put in legend.  Note that artists whose label start with an underscore are ignored when legend() is called with no argument.\n",
      "No artists with labels found to put in legend.  Note that artists whose label start with an underscore are ignored when legend() is called with no argument.\n"
     ]
    },
    {
     "name": "stdout",
     "output_type": "stream",
     "text": [
      "Frame 25 is created\r"
     ]
    },
    {
     "name": "stderr",
     "output_type": "stream",
     "text": [
      "No artists with labels found to put in legend.  Note that artists whose label start with an underscore are ignored when legend() is called with no argument.\n",
      "No artists with labels found to put in legend.  Note that artists whose label start with an underscore are ignored when legend() is called with no argument.\n",
      "No artists with labels found to put in legend.  Note that artists whose label start with an underscore are ignored when legend() is called with no argument.\n"
     ]
    },
    {
     "name": "stdout",
     "output_type": "stream",
     "text": [
      "Frame 28 is created\r"
     ]
    },
    {
     "name": "stderr",
     "output_type": "stream",
     "text": [
      "No artists with labels found to put in legend.  Note that artists whose label start with an underscore are ignored when legend() is called with no argument.\n",
      "No artists with labels found to put in legend.  Note that artists whose label start with an underscore are ignored when legend() is called with no argument.\n",
      "No artists with labels found to put in legend.  Note that artists whose label start with an underscore are ignored when legend() is called with no argument.\n"
     ]
    },
    {
     "name": "stdout",
     "output_type": "stream",
     "text": [
      "Frame 31 is created\r"
     ]
    },
    {
     "name": "stderr",
     "output_type": "stream",
     "text": [
      "No artists with labels found to put in legend.  Note that artists whose label start with an underscore are ignored when legend() is called with no argument.\n",
      "No artists with labels found to put in legend.  Note that artists whose label start with an underscore are ignored when legend() is called with no argument.\n",
      "No artists with labels found to put in legend.  Note that artists whose label start with an underscore are ignored when legend() is called with no argument.\n"
     ]
    },
    {
     "name": "stdout",
     "output_type": "stream",
     "text": [
      "Frame 34 is created\r"
     ]
    },
    {
     "name": "stderr",
     "output_type": "stream",
     "text": [
      "No artists with labels found to put in legend.  Note that artists whose label start with an underscore are ignored when legend() is called with no argument.\n",
      "No artists with labels found to put in legend.  Note that artists whose label start with an underscore are ignored when legend() is called with no argument.\n",
      "No artists with labels found to put in legend.  Note that artists whose label start with an underscore are ignored when legend() is called with no argument.\n"
     ]
    },
    {
     "name": "stdout",
     "output_type": "stream",
     "text": [
      "Frame 37 is created\r"
     ]
    },
    {
     "name": "stderr",
     "output_type": "stream",
     "text": [
      "No artists with labels found to put in legend.  Note that artists whose label start with an underscore are ignored when legend() is called with no argument.\n",
      "No artists with labels found to put in legend.  Note that artists whose label start with an underscore are ignored when legend() is called with no argument.\n",
      "No artists with labels found to put in legend.  Note that artists whose label start with an underscore are ignored when legend() is called with no argument.\n"
     ]
    },
    {
     "name": "stdout",
     "output_type": "stream",
     "text": [
      "Frame 40 is created\r"
     ]
    },
    {
     "name": "stderr",
     "output_type": "stream",
     "text": [
      "No artists with labels found to put in legend.  Note that artists whose label start with an underscore are ignored when legend() is called with no argument.\n",
      "No artists with labels found to put in legend.  Note that artists whose label start with an underscore are ignored when legend() is called with no argument.\n",
      "No artists with labels found to put in legend.  Note that artists whose label start with an underscore are ignored when legend() is called with no argument.\n"
     ]
    },
    {
     "name": "stdout",
     "output_type": "stream",
     "text": [
      "Frame 43 is created\r"
     ]
    },
    {
     "name": "stderr",
     "output_type": "stream",
     "text": [
      "No artists with labels found to put in legend.  Note that artists whose label start with an underscore are ignored when legend() is called with no argument.\n",
      "No artists with labels found to put in legend.  Note that artists whose label start with an underscore are ignored when legend() is called with no argument.\n",
      "No artists with labels found to put in legend.  Note that artists whose label start with an underscore are ignored when legend() is called with no argument.\n"
     ]
    },
    {
     "name": "stdout",
     "output_type": "stream",
     "text": [
      "Frame 46 is created\r"
     ]
    },
    {
     "name": "stderr",
     "output_type": "stream",
     "text": [
      "No artists with labels found to put in legend.  Note that artists whose label start with an underscore are ignored when legend() is called with no argument.\n",
      "No artists with labels found to put in legend.  Note that artists whose label start with an underscore are ignored when legend() is called with no argument.\n"
     ]
    },
    {
     "name": "stdout",
     "output_type": "stream",
     "text": [
      "Animation at FPS=10 will last for 5.0 seconds\n"
     ]
    }
   ],
   "source": [
    "create_animation(plot_epoch, idx=np.arange(0,50,1), filename='FluxUQ.gif', FPS=10)"
   ]
  },
  {
   "cell_type": "code",
   "execution_count": null,
   "metadata": {},
   "outputs": [],
   "source": []
  },
  {
   "cell_type": "code",
   "execution_count": null,
   "metadata": {},
   "outputs": [],
   "source": []
  },
  {
   "cell_type": "code",
   "execution_count": null,
   "metadata": {},
   "outputs": [],
   "source": []
  },
  {
   "cell_type": "code",
   "execution_count": null,
   "metadata": {},
   "outputs": [],
   "source": []
  },
  {
   "cell_type": "code",
   "execution_count": null,
   "metadata": {},
   "outputs": [],
   "source": [
    "''' Train mean and then variance on MSE and then variance and mean on MLE ''' \n",
    "optimizer = optim.Adam(mean_net.parameters(), lr=1e-3)\n",
    "num_epochs = 20\n",
    "log = {'MSE': [], 'mean': []}\n",
    "for epoch in range(num_epochs):\n",
    "    MSE_loss = 0.\n",
    "    for i, (inputs, targets) in enumerate(dataloader):\n",
    "        # Forward pass\n",
    "        mean = mean_net(inputs)\n",
    "        MSE = ((mean-targets)**2).mean()\n",
    "\n",
    "        # Backward and optimize\n",
    "        optimizer.zero_grad()\n",
    "        MSE.backward()\n",
    "        optimizer.step()\n",
    "        MSE_loss += MSE.item() * len(inputs)\n",
    "\n",
    "    MSE_loss = MSE_loss / len(dataset)\n",
    "    mean = mean_net(dataset.X_uniform)\n",
    "    log['MSE'].append(MSE_loss)\n",
    "    log['mean'].append(mean.detach())\n",
    "\n",
    "    # Print loss after every epoch\n",
    "    print(f\"Epoch [{epoch+1}/{num_epochs}], Loss: {MSE_loss:.4f}/{dataset.min_MSE:.4f}\")\n",
    "    \n",
    "    \n",
    "optimizer = optim.Adam(var_net.parameters(), lr=1e-3)\n",
    "num_epochs = 30\n",
    "log_var = {'MSE': [], 'var': []}\n",
    "for epoch in range(num_epochs):\n",
    "    MSE_loss = 0.\n",
    "    for i, (inputs, targets) in enumerate(dataloader):\n",
    "        # Forward pass\n",
    "        mean = mean_net(inputs)\n",
    "        r2 = (targets-mean)**2\n",
    "        var = (var_net(inputs))**2 # squared to predict positive variance\n",
    "        MSE = ((var-r2)**2).mean()\n",
    "\n",
    "        # Backward and optimize\n",
    "        optimizer.zero_grad()\n",
    "        MSE.backward()\n",
    "        optimizer.step()\n",
    "        MSE_loss += MSE.item() * len(inputs)\n",
    "\n",
    "    MSE_loss = MSE_loss / len(dataset)\n",
    "    var = (var_net(dataset.X_uniform))**2\n",
    "    log_var['MSE'].append(MSE_loss)\n",
    "    log_var['var'].append(var.detach())\n",
    "\n",
    "    # Print loss after every epoch\n",
    "    print(f\"Epoch [{epoch+1}/{num_epochs}], Loss: {MSE_loss:.6f}\")\n",
    "    \n"
   ]
  }
 ],
 "metadata": {
  "kernelspec": {
   "display_name": "mlflux",
   "language": "python",
   "name": "mlflux"
  },
  "language_info": {
   "codemirror_mode": {
    "name": "ipython",
    "version": 3
   },
   "file_extension": ".py",
   "mimetype": "text/x-python",
   "name": "python",
   "nbconvert_exporter": "python",
   "pygments_lexer": "ipython3",
   "version": "3.11.5"
  }
 },
 "nbformat": 4,
 "nbformat_minor": 2
}
