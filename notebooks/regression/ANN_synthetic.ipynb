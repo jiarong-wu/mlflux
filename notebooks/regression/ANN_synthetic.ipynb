{
 "cells": [
  {
   "cell_type": "code",
   "execution_count": 183,
   "metadata": {},
   "outputs": [],
   "source": [
    "# from synthetic import generate_synthetic_data\n",
    "import numpy as np\n",
    "from torch.utils.data import Dataset, DataLoader\n",
    "import torch.nn as nn\n",
    "import torch\n",
    "import torch.optim as optim\n",
    "import matplotlib.pyplot as plt\n"
   ]
  },
  {
   "cell_type": "code",
   "execution_count": 6,
   "metadata": {},
   "outputs": [],
   "source": [
    "def generate_synthetic_data (N=10000,):\n",
    "    ''' Generate synthetic data according to prescribed destribution for state variables. \n",
    "        So far the scale and the distribution are fixed but we can relax that late.\n",
    "        Arguments:\n",
    "            N: sample size\n",
    "        Returns:\n",
    "            x1: wind speed drawn from Reyleigh distribution\n",
    "            x2: temperature difference drawn from normal distribution\n",
    "            y1: dictionary containing mean, std, and samples of momentum flux\n",
    "            y2: dictionary containing mean, std, and samples of sensible heat flux\n",
    "    '''\n",
    "            \n",
    "    # Wind speed\n",
    "    scale = 5.\n",
    "    x1 = np.random.rayleigh(scale, N)\n",
    "    # Temperature diff\n",
    "    mean, var = -0.8, 0.8\n",
    "    x2 = np.random.normal(mean, var, N)\n",
    "    # Bulk coefficients\n",
    "    Cd = 0.0015 # For omentum, between 1e-3 to 2e-3\n",
    "    Ch = 1 # For sensible heat, this is after multiplied by heat capacity\n",
    "\n",
    "    # Fluxes\n",
    "    y1_mean = Cd*x1**2; y1_std = Cd*x1**2*0.2 + 0.01\n",
    "    y1_sample = y1_mean + np.array([np.random.normal(0,std,1).squeeze() for std in y1_std]) # This is kind of inefficient to generate random samples\n",
    "    y2_mean = Ch*x1*x2; y2_std = abs(Ch*x1*x2)*0.15 + 1\n",
    "    y2_sample = y2_mean + np.array([np.random.normal(0,std,1).squeeze() for std in y2_std])\n",
    "    \n",
    "    # Assemble\n",
    "    y1 = {'mean':y1_mean,'std':y1_std,'sample':y1_sample}\n",
    "    y2 = {'mean':y2_mean,'std':y2_std,'sample':y2_sample}\n",
    "    return (x1,x2,y1,y2)"
   ]
  },
  {
   "cell_type": "code",
   "execution_count": 184,
   "metadata": {},
   "outputs": [],
   "source": [
    "# TODO: does the attribute of Dataset need to be all tensors?\n",
    "class FluxDataset(Dataset):\n",
    "    def __init__(self, N=10000, choice='momentum'):\n",
    "        \n",
    "        # Generate data\n",
    "        self.x1, self.x2, self.y1, self.y2 = generate_synthetic_data(N=N)\n",
    "        self.X = torch.tensor(np.hstack([np.reshape(self.x1,(-1,1)),np.reshape(self.x2,(-1,1))]).astype('float32'))\n",
    "        \n",
    "        # A uniform grid flattened to make prediction maps\n",
    "        # After making the prediction, Y_pred.reshape([100,100])\n",
    "        x1_vis = np.linspace(0,20,100); x2_vis = np.linspace(-2,2,100)\n",
    "        x1_mesh, x2_mesh = np.meshgrid(x1_vis,x2_vis,indexing='ij')\n",
    "        X_uniform = np.hstack([np.reshape(x1_mesh,(-1,1)), np.reshape(x2_mesh,(-1,1))])\n",
    "        self.X_uniform = torch.tensor(X_uniform.astype('float32'))\n",
    "        \n",
    "        # Choice y\n",
    "        if choice == 'momentum':\n",
    "            self.Y = torch.tensor(np.reshape(self.y1['sample'],(-1,1)).astype('float32'))\n",
    "            self.min_MSE = np.average((self.y1['sample']-self.y1['mean'])**2)**0.5\n",
    "        if choice == 'heat':\n",
    "            self.Y = torch.tensor(np.reshape(self.y2['sample'],(-1,1)).astype('float32'))\n",
    "            self.min_MSE = np.average((self.y2['sample']-self.y2['mean'])**2)**0.5\n",
    "        \n",
    "    def __len__(self):\n",
    "        return len(self.x1)\n",
    "\n",
    "    def __getitem__(self, idx):\n",
    "        return self.X[idx], self.Y[idx]\n",
    "    "
   ]
  },
  {
   "cell_type": "code",
   "execution_count": 185,
   "metadata": {},
   "outputs": [],
   "source": [
    "# TODO: does the attribute of Dataset need to be all tensors?\n",
    "class FluxDataset1D(Dataset):\n",
    "    def __init__(self, N=10000, choice='momentum'):\n",
    "        \n",
    "        # Generate data\n",
    "        self.x1, self.x2, self.y1, self.y2 = generate_synthetic_data(N=N)\n",
    "        self.X = np.reshape(self.x1,(-1,1)).astype('float32')\n",
    "        \n",
    "        # A uniform grid flattened to make prediction maps\n",
    "        # After making the prediction, Y_pred.reshape([100,100])\n",
    "        x1_vis = np.linspace(0,20,100)\n",
    "        X_uniform = np.reshape(x1_vis,(-1,1))\n",
    "        self.X_uniform = torch.tensor(X_uniform.astype('float32'))\n",
    "        \n",
    "        # Choice y\n",
    "        if choice == 'momentum':\n",
    "            self.Y = torch.tensor(np.reshape(self.y1['sample'],(-1,1)).astype('float32'))\n",
    "            self.min_MSE = np.average((self.y1['sample']-self.y1['mean'])**2)\n",
    "        if choice == 'heat':\n",
    "            self.Y = torch.tensor(np.reshape(self.y2['sample'],(-1,1)).astype('float32'))\n",
    "            self.min_MSE = np.average((self.y2['sample']-self.y2['mean'])**2)\n",
    "        \n",
    "    def __len__(self):\n",
    "        return len(self.x1)\n",
    "\n",
    "    def __getitem__(self, idx):\n",
    "        return self.X[idx], self.Y[idx]\n"
   ]
  },
  {
   "cell_type": "code",
   "execution_count": 272,
   "metadata": {},
   "outputs": [],
   "source": [
    "dataset = FluxDataset(N=100000, choice='momentum')\n",
    "# dataset = FluxDataset1D(N=100000, choice='momentum')\n",
    "\n",
    "dataloader = DataLoader(dataset, batch_size=10, shuffle=True)"
   ]
  },
  {
   "cell_type": "code",
   "execution_count": 298,
   "metadata": {},
   "outputs": [],
   "source": [
    "# Define a fully connected neural network with one hidden layer\n",
    "class FcNet(nn.Module):\n",
    "    def __init__(self, hidden_dim=16):\n",
    "        super().__init__()\n",
    "        self.fc1 = nn.Linear(2, hidden_dim)\n",
    "        self.fc2 = nn.Linear(hidden_dim, 1)\n",
    "\n",
    "    def forward(self, x):\n",
    "        x = torch.sigmoid(self.fc1(x))\n",
    "        x = self.fc2(x)\n",
    "        return x\n",
    "    \n",
    "# class FcNet(nn.Module):\n",
    "#     def __init__(self, hidden_dim=16):\n",
    "#         super().__init__()\n",
    "#         self.fc1 = nn.Linear(1, hidden_dim)\n",
    "#         self.fc2 = nn.Linear(hidden_dim, 1)\n",
    "\n",
    "#     def forward(self, x):\n",
    "#         x = torch.relu(self.fc1(x))\n",
    "#         x = self.fc2(x)\n",
    "#         return x\n",
    "    \n",
    "mean_net = FcNet()\n",
    "var_net = FcNet()\n",
    "# mean_net.to('mps')\n",
    "# var_net.to('mps')"
   ]
  },
  {
   "cell_type": "code",
   "execution_count": 299,
   "metadata": {},
   "outputs": [
    {
     "name": "stdout",
     "output_type": "stream",
     "text": [
      "Epoch [1/50], Loss: -1.61682191\n",
      "Epoch [2/50], Loss: -1.71506278\n",
      "Epoch [3/50], Loss: -1.42215668\n",
      "Epoch [4/50], Loss: -1.47812679\n",
      "Epoch [5/50], Loss: -2.24494431\n",
      "Epoch [6/50], Loss: -2.78609981\n",
      "Epoch [7/50], Loss: -2.81501823\n",
      "Epoch [8/50], Loss: -3.06770149\n",
      "Epoch [9/50], Loss: -3.07726457\n",
      "Epoch [10/50], Loss: -2.97208651\n",
      "Epoch [11/50], Loss: -3.10463066\n",
      "Epoch [12/50], Loss: -2.95641814\n",
      "Epoch [13/50], Loss: -3.04011617\n",
      "Epoch [14/50], Loss: -3.09840809\n",
      "Epoch [15/50], Loss: -2.28915499\n",
      "Epoch [16/50], Loss: -1.98670904\n",
      "Epoch [17/50], Loss: -1.81518511\n",
      "Epoch [18/50], Loss: -2.43036314\n",
      "Epoch [19/50], Loss: -2.07468576\n",
      "Epoch [20/50], Loss: -3.19848848\n",
      "Epoch [21/50], Loss: -3.09842818\n",
      "Epoch [22/50], Loss: -3.21696137\n",
      "Epoch [23/50], Loss: -3.10108335\n",
      "Epoch [24/50], Loss: -3.18672523\n",
      "Epoch [25/50], Loss: -2.46391847\n",
      "Epoch [26/50], Loss: -1.82313467\n",
      "Epoch [27/50], Loss: -3.22644784\n",
      "Epoch [28/50], Loss: -3.24218361\n",
      "Epoch [29/50], Loss: -3.20380717\n",
      "Epoch [30/50], Loss: -3.18948727\n",
      "Epoch [31/50], Loss: -3.24207151\n",
      "Epoch [32/50], Loss: -3.22593635\n",
      "Epoch [33/50], Loss: -3.25691353\n",
      "Epoch [34/50], Loss: -3.25394758\n",
      "Epoch [35/50], Loss: -2.25096467\n",
      "Epoch [36/50], Loss: -2.07968902\n",
      "Epoch [37/50], Loss: -1.91579428\n",
      "Epoch [38/50], Loss: -1.28802856\n",
      "Epoch [39/50], Loss: -2.67565699\n",
      "Epoch [40/50], Loss: -3.18459878\n",
      "Epoch [41/50], Loss: -3.26612643\n",
      "Epoch [42/50], Loss: -3.22398833\n",
      "Epoch [43/50], Loss: -3.28216647\n",
      "Epoch [44/50], Loss: -3.27825529\n",
      "Epoch [45/50], Loss: -3.27505969\n",
      "Epoch [46/50], Loss: -3.28134187\n",
      "Epoch [47/50], Loss: -3.28572157\n",
      "Epoch [48/50], Loss: -3.23363659\n",
      "Epoch [49/50], Loss: -3.26540408\n",
      "Epoch [50/50], Loss: -3.28233098\n"
     ]
    }
   ],
   "source": [
    "''' Variance network trained on log likelihood '''\n",
    "\n",
    "optimizer_joint = optim.Adam(list(var_net.parameters())+list(mean_net.parameters()), lr=1e-3)\n",
    "# optimizer_joint = optim.Adam(var_net.parameters(), lr=1e-3)\n",
    "num_epochs = 50\n",
    "log_var = {'LLLoss': [], 'var': [], 'mean': []}\n",
    "\n",
    "loss = nn.GaussianNLLLoss()\n",
    "\n",
    "for epoch in range(num_epochs):\n",
    "    LLLoss = 0.\n",
    "    for i, (inputs, targets) in enumerate(dataloader):\n",
    "        optimizer_joint.zero_grad()\n",
    "        # Forward pass\n",
    "        mean = mean_net(inputs)\n",
    "        var = (var_net(inputs))**2 # squared to predict positive variance\n",
    "        likelihood = loss(targets, mean, var).mean()   \n",
    "        # Backward and optimize (var and mean net)\n",
    "        likelihood.backward() # TODO: Only need to call this once right?\n",
    "        optimizer_joint.step()\n",
    "        LLLoss += likelihood.item() * len(inputs)        \n",
    "\n",
    "    LLLoss = LLLoss / len(dataset)\n",
    "    var = (var_net(dataset.X_uniform))**2\n",
    "    mean = mean_net(dataset.X_uniform)\n",
    "    log_var['LLLoss'].append(LLLoss)\n",
    "    log_var['var'].append(var.detach())\n",
    "    log_var['mean'].append(mean.detach())\n",
    "\n",
    "    # Print loss after every epoch\n",
    "    print(f\"Epoch [{epoch+1}/{num_epochs}], Loss: {LLLoss:.8f}\")"
   ]
  },
  {
   "cell_type": "code",
   "execution_count": 300,
   "metadata": {},
   "outputs": [
    {
     "data": {
      "text/plain": [
       "Text(0, 0.5, 'Loss')"
      ]
     },
     "execution_count": 300,
     "metadata": {},
     "output_type": "execute_result"
    },
    {
     "data": {
      "image/png": "[encoded data removed]",
      "text/plain": [
       "<Figure size 800x400 with 1 Axes>"
      ]
     },
     "metadata": {},
     "output_type": "display_data"
    }
   ],
   "source": [
    "plt.figure(figsize=[4,2],dpi=200)\n",
    "plt.plot(log_var['LLLoss'])\n",
    "plt.xlabel('Epoch'); plt.ylabel('Loss')\n",
    "# plt.ylim([1,1.1])"
   ]
  },
  {
   "cell_type": "code",
   "execution_count": 204,
   "metadata": {},
   "outputs": [],
   "source": [
    "x1_vis = np.linspace(0,20,100); x2_vis = np.linspace(-2,2,100)\n",
    "x1_mesh,x2_mesh = np.meshgrid(x1_vis,x2_vis,indexing='ij')"
   ]
  },
  {
   "cell_type": "code",
   "execution_count": 197,
   "metadata": {},
   "outputs": [],
   "source": [
    "def plot_epoch(epoch=10, xaxis=1):\n",
    "    ''' Input:\n",
    "            xaxis: the x axis variable to display. The prediction of the mean is then \n",
    "            averaged along the other dimensions. 0: wind speed; 1: temp diff. \n",
    "    '''\n",
    "    plt.figure(figsize=(4,4))\n",
    "    plt.plot(dataset.X[:2000, xaxis], dataset.Y[:2000], '.', label='training \\ndata')\n",
    "\n",
    "    mean = log_var['mean'][epoch]\n",
    "    std = np.sqrt(log_var['var'][epoch])\n",
    "\n",
    "    dims = [0,1] # for total dimension 2. TODO: refine it later\n",
    "    dims.remove(xaxis) # axis except for the one specified\n",
    "    mean_aver = np.average(mean.reshape(100,100), axis=tuple(dims)); std_aver = np.average(std.reshape(100,100), axis=tuple(dims))\n",
    "    \n",
    "    if xaxis == 0:\n",
    "        xplot = dataset.X_uniform[:,xaxis].reshape(100,100)[0]\n",
    "    elif xaxis == 1:\n",
    "        xplot = dataset.X_uniform[:,xaxis].reshape(100,100)[:,0]\n",
    "        \n",
    "    plt.plot(xplot,mean_aver,'-', lw=1, color='k', label='Expectation')\n",
    "    plt.plot(xplot,mean_aver-std_aver,'--', lw=1, color='k', label='$\\pm \\sigma$')\n",
    "    plt.plot(xplot,mean_aver+std_aver,'--', lw=1, color='k')\n",
    "        \n",
    "#     plt.xlim([0,20])\n",
    "#     plt.xticks([0,5,10,15,20])\n",
    "#     plt.ylim([0,0.8])\n",
    "    plt.xlabel('$x$')\n",
    "    plt.ylabel('$y$')\n",
    "    plt.legend(loc='upper left', fontsize=12)\n",
    "    plt.title('Prediction by ANN')"
   ]
  },
  {
   "cell_type": "code",
   "execution_count": 302,
   "metadata": {},
   "outputs": [],
   "source": [
    "def plot_epoch_map(epoch=10):\n",
    "    ''' Input:\n",
    "            xaxis: the x axis variable to display. The prediction of the mean is then \n",
    "            averaged along the other dimensions. 0: wind speed; 1: temp diff. \n",
    "    '''\n",
    "    plt.figure(figsize=(4,3))\n",
    "    # plt.plot(dataset.X[:2000, xaxis], dataset.Y[:2000], '.', label='training \\ndata')\n",
    "    img = plt.pcolormesh(dataset.X_uniform[:,0].numpy().reshape(100,100), dataset.X_uniform[:,1].numpy().reshape(100,100),\n",
    "                         log_var['mean'][epoch].reshape(100,100), vmax=1, vmin=0)\n",
    "    plt.xlabel('$x_1$')\n",
    "    plt.ylabel('$x_2$')\n",
    "#     plt.legend(loc='upper left', fontsize=12)\n",
    "    plt.colorbar(img, ticks=[0,1])\n",
    "    plt.title('Epoch %g' %epoch)"
   ]
  },
  {
   "cell_type": "code",
   "execution_count": 296,
   "metadata": {},
   "outputs": [
    {
     "data": {
      "image/png": "[encoded data removed]",
      "text/plain": [
       "<Figure size 400x300 with 2 Axes>"
      ]
     },
     "metadata": {},
     "output_type": "display_data"
    }
   ],
   "source": [
    "plot_epoch_map(40)"
   ]
  },
  {
   "cell_type": "code",
   "execution_count": 280,
   "metadata": {},
   "outputs": [
    {
     "data": {
      "text/plain": [
       "Text(0.5, 1.0, 'True $\\\\mu$')"
      ]
     },
     "execution_count": 280,
     "metadata": {},
     "output_type": "execute_result"
    },
    {
     "data": {
      "image/png": "[encoded data removed]",
      "text/plain": [
       "<Figure size 800x600 with 2 Axes>"
      ]
     },
     "metadata": {},
     "output_type": "display_data"
    }
   ],
   "source": [
    "plt.figure(figsize=(4,3), dpi=200)\n",
    "X = dataset.X_uniform[:,0].numpy().reshape(100,100)\n",
    "Y = dataset.X_uniform[:,1].numpy().reshape(100,100)\n",
    "img = plt.pcolormesh(X, Y, 0.0015*X**2, vmax=1, vmin=0)\n",
    "plt.xlabel('$x_1$')\n",
    "plt.ylabel('$x_2$')\n",
    "plt.colorbar(img, ticks=[0,1])\n",
    "plt.title('True $\\mu$')"
   ]
  },
  {
   "cell_type": "code",
   "execution_count": 304,
   "metadata": {},
   "outputs": [
    {
     "name": "stdout",
     "output_type": "stream",
     "text": [
      "Animation at FPS=10 will last for 5.0 seconds\n"
     ]
    }
   ],
   "source": [
    "create_animation(plot_epoch_map, idx=np.arange(0,50,1), filename='momentum_2DMap_mu.gif', FPS=10)"
   ]
  },
  {
   "cell_type": "code",
   "execution_count": 60,
   "metadata": {},
   "outputs": [],
   "source": [
    "import matplotlib.pyplot as plt\n",
    "import matplotlib\n",
    "import numpy as np\n",
    "import os\n",
    "from PIL import Image\n",
    "from mpl_toolkits.axes_grid1 import make_axes_locatable\n",
    "\n",
    "def create_animation(fun, idx, filename='my-animation.gif', dpi=200, FPS=18, loop=0):\n",
    "    '''\n",
    "    See https://pythonprogramming.altervista.org/png-to-gif/\n",
    "    fun(i) - a function creating one snapshot, has only one input:\n",
    "        - number of frame i\n",
    "    idx - range of frames, i in idx\n",
    "    FPS - frames per second\n",
    "    filename - animation name\n",
    "    dpi - set 300 or so to increase quality\n",
    "    loop - number of repeats of the gif\n",
    "    '''\n",
    "    frames = []\n",
    "    for i in idx:\n",
    "        fun(i)\n",
    "        plt.savefig('.frame.png', dpi=dpi, bbox_inches='tight')\n",
    "        plt.close()\n",
    "        frames.append(Image.open('.frame.png').convert('RGB'))\n",
    "        print(f'Frame {i} is created', end='\\r')\n",
    "    os.system('rm .frame.png')\n",
    "    # How long to persist one frame in milliseconds to have a desired FPS\n",
    "    duration = 1000 / FPS\n",
    "    print(f'Animation at FPS={FPS} will last for {len(idx)/FPS} seconds')\n",
    "    frames[0].save(\n",
    "        filename, format='GIF',\n",
    "        append_images=frames[1:],\n",
    "        save_all=True,\n",
    "        duration=duration,\n",
    "        loop=loop)"
   ]
  },
  {
   "cell_type": "code",
   "execution_count": 303,
   "metadata": {},
   "outputs": [
    {
     "name": "stderr",
     "output_type": "stream",
     "text": [
      "No artists with labels found to put in legend.  Note that artists whose label start with an underscore are ignored when legend() is called with no argument.\n"
     ]
    },
    {
     "name": "stderr",
     "output_type": "stream",
     "text": [
      "No artists with labels found to put in legend.  Note that artists whose label start with an underscore are ignored when legend() is called with no argument.\n",
      "No artists with labels found to put in legend.  Note that artists whose label start with an underscore are ignored when legend() is called with no argument.\n",
      "No artists with labels found to put in legend.  Note that artists whose label start with an underscore are ignored when legend() is called with no argument.\n"
     ]
    },
    {
     "name": "stdout",
     "output_type": "stream",
     "text": [
      "Frame 2 is created\r"
     ]
    },
    {
     "name": "stderr",
     "output_type": "stream",
     "text": [
      "No artists with labels found to put in legend.  Note that artists whose label start with an underscore are ignored when legend() is called with no argument.\n",
      "No artists with labels found to put in legend.  Note that artists whose label start with an underscore are ignored when legend() is called with no argument.\n",
      "No artists with labels found to put in legend.  Note that artists whose label start with an underscore are ignored when legend() is called with no argument.\n"
     ]
    },
    {
     "name": "stdout",
     "output_type": "stream",
     "text": [
      "Frame 5 is created\r"
     ]
    },
    {
     "name": "stderr",
     "output_type": "stream",
     "text": [
      "No artists with labels found to put in legend.  Note that artists whose label start with an underscore are ignored when legend() is called with no argument.\n",
      "No artists with labels found to put in legend.  Note that artists whose label start with an underscore are ignored when legend() is called with no argument.\n"
     ]
    },
    {
     "name": "stdout",
     "output_type": "stream",
     "text": [
      "Frame 7 is created\r"
     ]
    },
    {
     "name": "stderr",
     "output_type": "stream",
     "text": [
      "No artists with labels found to put in legend.  Note that artists whose label start with an underscore are ignored when legend() is called with no argument.\n",
      "No artists with labels found to put in legend.  Note that artists whose label start with an underscore are ignored when legend() is called with no argument.\n",
      "No artists with labels found to put in legend.  Note that artists whose label start with an underscore are ignored when legend() is called with no argument.\n"
     ]
    },
    {
     "name": "stdout",
     "output_type": "stream",
     "text": [
      "Frame 10 is created\r"
     ]
    },
    {
     "name": "stderr",
     "output_type": "stream",
     "text": [
      "No artists with labels found to put in legend.  Note that artists whose label start with an underscore are ignored when legend() is called with no argument.\n",
      "No artists with labels found to put in legend.  Note that artists whose label start with an underscore are ignored when legend() is called with no argument.\n",
      "No artists with labels found to put in legend.  Note that artists whose label start with an underscore are ignored when legend() is called with no argument.\n"
     ]
    },
    {
     "name": "stdout",
     "output_type": "stream",
     "text": [
      "Frame 13 is created\r"
     ]
    },
    {
     "name": "stderr",
     "output_type": "stream",
     "text": [
      "No artists with labels found to put in legend.  Note that artists whose label start with an underscore are ignored when legend() is called with no argument.\n",
      "No artists with labels found to put in legend.  Note that artists whose label start with an underscore are ignored when legend() is called with no argument.\n"
     ]
    },
    {
     "name": "stdout",
     "output_type": "stream",
     "text": [
      "Frame 16 is created\r"
     ]
    },
    {
     "name": "stderr",
     "output_type": "stream",
     "text": [
      "No artists with labels found to put in legend.  Note that artists whose label start with an underscore are ignored when legend() is called with no argument.\n",
      "No artists with labels found to put in legend.  Note that artists whose label start with an underscore are ignored when legend() is called with no argument.\n",
      "No artists with labels found to put in legend.  Note that artists whose label start with an underscore are ignored when legend() is called with no argument.\n",
      "No artists with labels found to put in legend.  Note that artists whose label start with an underscore are ignored when legend() is called with no argument.\n"
     ]
    },
    {
     "name": "stdout",
     "output_type": "stream",
     "text": [
      "Frame 19 is created\r"
     ]
    },
    {
     "name": "stderr",
     "output_type": "stream",
     "text": [
      "No artists with labels found to put in legend.  Note that artists whose label start with an underscore are ignored when legend() is called with no argument.\n",
      "No artists with labels found to put in legend.  Note that artists whose label start with an underscore are ignored when legend() is called with no argument.\n",
      "No artists with labels found to put in legend.  Note that artists whose label start with an underscore are ignored when legend() is called with no argument.\n"
     ]
    },
    {
     "name": "stdout",
     "output_type": "stream",
     "text": [
      "Frame 22 is created\r"
     ]
    },
    {
     "name": "stderr",
     "output_type": "stream",
     "text": [
      "No artists with labels found to put in legend.  Note that artists whose label start with an underscore are ignored when legend() is called with no argument.\n",
      "No artists with labels found to put in legend.  Note that artists whose label start with an underscore are ignored when legend() is called with no argument.\n",
      "No artists with labels found to put in legend.  Note that artists whose label start with an underscore are ignored when legend() is called with no argument.\n"
     ]
    },
    {
     "name": "stdout",
     "output_type": "stream",
     "text": [
      "Frame 25 is created\r"
     ]
    },
    {
     "name": "stderr",
     "output_type": "stream",
     "text": [
      "No artists with labels found to put in legend.  Note that artists whose label start with an underscore are ignored when legend() is called with no argument.\n",
      "No artists with labels found to put in legend.  Note that artists whose label start with an underscore are ignored when legend() is called with no argument.\n",
      "No artists with labels found to put in legend.  Note that artists whose label start with an underscore are ignored when legend() is called with no argument.\n"
     ]
    },
    {
     "name": "stdout",
     "output_type": "stream",
     "text": [
      "Frame 28 is created\r"
     ]
    },
    {
     "name": "stderr",
     "output_type": "stream",
     "text": [
      "No artists with labels found to put in legend.  Note that artists whose label start with an underscore are ignored when legend() is called with no argument.\n",
      "No artists with labels found to put in legend.  Note that artists whose label start with an underscore are ignored when legend() is called with no argument.\n",
      "No artists with labels found to put in legend.  Note that artists whose label start with an underscore are ignored when legend() is called with no argument.\n"
     ]
    },
    {
     "name": "stdout",
     "output_type": "stream",
     "text": [
      "Frame 31 is created\r"
     ]
    },
    {
     "name": "stderr",
     "output_type": "stream",
     "text": [
      "No artists with labels found to put in legend.  Note that artists whose label start with an underscore are ignored when legend() is called with no argument.\n",
      "No artists with labels found to put in legend.  Note that artists whose label start with an underscore are ignored when legend() is called with no argument.\n",
      "No artists with labels found to put in legend.  Note that artists whose label start with an underscore are ignored when legend() is called with no argument.\n"
     ]
    },
    {
     "name": "stdout",
     "output_type": "stream",
     "text": [
      "Frame 34 is created\r"
     ]
    },
    {
     "name": "stderr",
     "output_type": "stream",
     "text": [
      "No artists with labels found to put in legend.  Note that artists whose label start with an underscore are ignored when legend() is called with no argument.\n",
      "No artists with labels found to put in legend.  Note that artists whose label start with an underscore are ignored when legend() is called with no argument.\n",
      "No artists with labels found to put in legend.  Note that artists whose label start with an underscore are ignored when legend() is called with no argument.\n"
     ]
    },
    {
     "name": "stdout",
     "output_type": "stream",
     "text": [
      "Frame 37 is created\r"
     ]
    },
    {
     "name": "stderr",
     "output_type": "stream",
     "text": [
      "No artists with labels found to put in legend.  Note that artists whose label start with an underscore are ignored when legend() is called with no argument.\n",
      "No artists with labels found to put in legend.  Note that artists whose label start with an underscore are ignored when legend() is called with no argument.\n",
      "No artists with labels found to put in legend.  Note that artists whose label start with an underscore are ignored when legend() is called with no argument.\n"
     ]
    },
    {
     "name": "stdout",
     "output_type": "stream",
     "text": [
      "Frame 40 is created\r"
     ]
    },
    {
     "name": "stderr",
     "output_type": "stream",
     "text": [
      "No artists with labels found to put in legend.  Note that artists whose label start with an underscore are ignored when legend() is called with no argument.\n",
      "No artists with labels found to put in legend.  Note that artists whose label start with an underscore are ignored when legend() is called with no argument.\n",
      "No artists with labels found to put in legend.  Note that artists whose label start with an underscore are ignored when legend() is called with no argument.\n"
     ]
    },
    {
     "name": "stdout",
     "output_type": "stream",
     "text": [
      "Frame 43 is created\r"
     ]
    },
    {
     "name": "stderr",
     "output_type": "stream",
     "text": [
      "No artists with labels found to put in legend.  Note that artists whose label start with an underscore are ignored when legend() is called with no argument.\n",
      "No artists with labels found to put in legend.  Note that artists whose label start with an underscore are ignored when legend() is called with no argument.\n",
      "No artists with labels found to put in legend.  Note that artists whose label start with an underscore are ignored when legend() is called with no argument.\n"
     ]
    },
    {
     "name": "stdout",
     "output_type": "stream",
     "text": [
      "Frame 46 is created\r"
     ]
    },
    {
     "name": "stderr",
     "output_type": "stream",
     "text": [
      "No artists with labels found to put in legend.  Note that artists whose label start with an underscore are ignored when legend() is called with no argument.\n",
      "No artists with labels found to put in legend.  Note that artists whose label start with an underscore are ignored when legend() is called with no argument.\n"
     ]
    },
    {
     "name": "stdout",
     "output_type": "stream",
     "text": [
      "Animation at FPS=10 will last for 5.0 seconds\n"
     ]
    }
   ],
   "source": [
    "create_animation(plot_epoch, idx=np.arange(0,50,1), filename='FluxUQ.gif', FPS=10)"
   ]
  },
  {
   "cell_type": "code",
   "execution_count": null,
   "metadata": {},
   "outputs": [],
   "source": []
  },
  {
   "cell_type": "code",
   "execution_count": null,
   "metadata": {},
   "outputs": [],
   "source": []
  },
  {
   "cell_type": "code",
   "execution_count": null,
   "metadata": {},
   "outputs": [],
   "source": []
  },
  {
   "cell_type": "code",
   "execution_count": null,
   "metadata": {},
   "outputs": [],
   "source": []
  },
  {
   "cell_type": "code",
   "execution_count": null,
   "metadata": {},
   "outputs": [],
   "source": [
    "''' Train mean and then variance on MSE and then variance and mean on MLE ''' \n",
    "optimizer = optim.Adam(mean_net.parameters(), lr=1e-3)\n",
    "num_epochs = 20\n",
    "log = {'MSE': [], 'mean': []}\n",
    "for epoch in range(num_epochs):\n",
    "    MSE_loss = 0.\n",
    "    for i, (inputs, targets) in enumerate(dataloader):\n",
    "        # Forward pass\n",
    "        mean = mean_net(inputs)\n",
    "        MSE = ((mean-targets)**2).mean()\n",
    "\n",
    "        # Backward and optimize\n",
    "        optimizer.zero_grad()\n",
    "        MSE.backward()\n",
    "        optimizer.step()\n",
    "        MSE_loss += MSE.item() * len(inputs)\n",
    "\n",
    "    MSE_loss = MSE_loss / len(dataset)\n",
    "    mean = mean_net(dataset.X_uniform)\n",
    "    log['MSE'].append(MSE_loss)\n",
    "    log['mean'].append(mean.detach())\n",
    "\n",
    "    # Print loss after every epoch\n",
    "    print(f\"Epoch [{epoch+1}/{num_epochs}], Loss: {MSE_loss:.4f}/{dataset.min_MSE:.4f}\")\n",
    "    \n",
    "    \n",
    "optimizer = optim.Adam(var_net.parameters(), lr=1e-3)\n",
    "num_epochs = 30\n",
    "log_var = {'MSE': [], 'var': []}\n",
    "for epoch in range(num_epochs):\n",
    "    MSE_loss = 0.\n",
    "    for i, (inputs, targets) in enumerate(dataloader):\n",
    "        # Forward pass\n",
    "        mean = mean_net(inputs)\n",
    "        r2 = (targets-mean)**2\n",
    "        var = (var_net(inputs))**2 # squared to predict positive variance\n",
    "        MSE = ((var-r2)**2).mean()\n",
    "\n",
    "        # Backward and optimize\n",
    "        optimizer.zero_grad()\n",
    "        MSE.backward()\n",
    "        optimizer.step()\n",
    "        MSE_loss += MSE.item() * len(inputs)\n",
    "\n",
    "    MSE_loss = MSE_loss / len(dataset)\n",
    "    var = (var_net(dataset.X_uniform))**2\n",
    "    log_var['MSE'].append(MSE_loss)\n",
    "    log_var['var'].append(var.detach())\n",
    "\n",
    "    # Print loss after every epoch\n",
    "    print(f\"Epoch [{epoch+1}/{num_epochs}], Loss: {MSE_loss:.6f}\")\n",
    "    \n"
   ]
  }
 ],
 "metadata": {
  "kernelspec": {
   "display_name": "mlflux",
   "language": "python",
   "name": "mlflux"
  },
  "language_info": {
   "codemirror_mode": {
    "name": "ipython",
    "version": 3
   },
   "file_extension": ".py",
   "mimetype": "text/x-python",
   "name": "python",
   "nbconvert_exporter": "python",
   "pygments_lexer": "ipython3",
   "version": "3.11.5"
  }
 },
 "nbformat": 4,
 "nbformat_minor": 2
}
