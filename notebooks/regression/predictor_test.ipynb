{
 "cells": [
  {
   "cell_type": "markdown",
   "metadata": {},
   "source": [
    "### Test the predictor class"
   ]
  },
  {
   "cell_type": "code",
   "execution_count": null,
   "metadata": {},
   "outputs": [],
   "source": [
    "class predictor:\n",
    "    \"\"\"\n",
    "    Attributes inherited from all classes\n",
    "    __init__ fills the class based on a dictionary\n",
    "    save pickles itself, this is for convience and one does not need to convert\n",
    "    self.fname to a filename etc.\n",
    "    \"\"\"\n",
    "\n",
    "    def __init__(self, params={}):\n",
    "        for key in params.keys():\n",
    "            setattr(self, key, params[key])\n",
    "\n",
    "    def save(self, fname=\"model_1\"):\n",
    "        ## Use fname if the fname is defined.\n",
    "        pickle.dump(self, open(getattr(self, \"fname\", fname) + \".p\", \"wb\"))\n",
    "        \n",
    "\n",
    "class mvn_predictor(predictor):\n",
    "    \"\"\"\n",
    "    Template, nothing defined as mvn predictors have custom treatments\n",
    "    \"\"\"\n",
    "\n",
    "    def summary(self):\n",
    "        pass"
   ]
  }
 ],
 "metadata": {
  "language_info": {
   "name": "python"
  }
 },
 "nbformat": 4,
 "nbformat_minor": 2
}
