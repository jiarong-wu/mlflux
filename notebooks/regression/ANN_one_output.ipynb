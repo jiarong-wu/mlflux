{
 "cells": [
  {
   "cell_type": "code",
   "execution_count": 1,
   "metadata": {},
   "outputs": [],
   "source": [
    "from functools import cached_property\n",
    "from mlflux.predictor import FluxANNs\n",
    "import torch\n",
    "import numpy as np\n",
    "import xarray as xr\n",
    "from matplotlib import pyplot as plt\n",
    "\n",
    "from mlflux.datafunc import data_split_psd\n",
    "from mlflux.ann import RealFluxDataset\n",
    "\n",
    "%load_ext autoreload\n",
    "%autoreload 3"
   ]
  },
  {
   "cell_type": "code",
   "execution_count": 3,
   "metadata": {},
   "outputs": [],
   "source": [
    "psd = xr.load_dataset('../../data/Processed/psd_wave.nc')\n",
    "\n",
    "# 77, 69, 83, 78, 87, 72, 71, 68, 67, 73\n",
    "split1 = [[69, 83, 78, 87, 72, 71, 68, 67, 73], [77], [77]]\n",
    "split2 = [[77, 83, 78, 87, 72, 71, 68, 67, 73], [69], [69]]\n",
    "split3 = [[77, 69, 78, 87, 72, 71, 68, 67, 73], [83], [83]]\n",
    "split4 = [[77, 69, 83, 78, 68, 67, 73], [87, 72, 71], [87, 72, 71]]\n",
    "split5 = [[77, 69, 83, 78, 87, 72, 71, 67, 73], [68], [68]]\n",
    "split6 = [[77, 69, 83, 68, 87, 72, 71], [78, 67, 73], [78, 67, 73]]\n",
    "split_ensem = [split1, split2, split3, split4, split5, split6]"
   ]
  },
  {
   "cell_type": "code",
   "execution_count": 9,
   "metadata": {},
   "outputs": [],
   "source": [
    "''' Predictor with four inputs and four outputs '''\n",
    "class Flux41(FluxANNs):\n",
    "    \n",
    "    @cached_property\n",
    "    def Xscale(self):\n",
    "        # mean of x1, mean of x2\n",
    "        mean = torch.tensor(np.array([0,0,0,0]).reshape(1,-1).astype('float32'))\n",
    "        # std of x1, std of x2 (or scale)\n",
    "        scale = torch.tensor(np.array([20,20,20,100]).reshape(1,-1).astype('float32'))\n",
    "        return {'mean':mean,'scale':scale}\n",
    "        \n",
    "    @cached_property\n",
    "    def Yscale(self):\n",
    "        mean = torch.tensor(np.array([0]).reshape(1,-1).astype('float32'))\n",
    "        scale = torch.tensor(np.array([0.1]).reshape(1,-1).astype('float32'))\n",
    "        return {'mean':mean,'scale':scale}\n",
    "    \n",
    "    def evaluate_uniform(self):\n",
    "        pass\n",
    "\n",
    "''' Predictor with four inputs and four outputs, and with fixed first layer taking temperature difference. '''\n",
    "from mlflux.ann import ANNdiff   \n",
    "class Flux41diff(Flux41):\n",
    "    def __init__(self,params={}):\n",
    "        super().__init__(params)\n",
    "        self.mean_func = ANNdiff(**self.mean_ann_para)\n",
    "        self.var_func = ANNdiff(**self.var_ann_para)  "
   ]
  },
  {
   "cell_type": "code",
   "execution_count": 10,
   "metadata": {},
   "outputs": [
    {
     "name": "stdout",
     "output_type": "stream",
     "text": [
      "Training samples: 7005\n",
      "Validating samples: 3068\n",
      "Testing samples: 3068\n"
     ]
    },
    {
     "name": "stderr",
     "output_type": "stream",
     "text": [
      "/Users/jwu/miniconda3/envs/mlflux/lib/python3.11/site-packages/torch/optim/lr_scheduler.py:28: UserWarning: The verbose parameter is deprecated. Please use get_last_lr() to access the learning rate.\n",
      "  warnings.warn(\"The verbose parameter is deprecated. Please use get_last_lr() \"\n"
     ]
    },
    {
     "name": "stdout",
     "output_type": "stream",
     "text": [
      "Early stopping triggered after 294 epochs.\n",
      "training took 23.27 seconds, loss at last epoch -49.9855\n",
      "Training samples: 8463\n",
      "Validating samples: 1610\n",
      "Testing samples: 1610\n"
     ]
    },
    {
     "name": "stderr",
     "output_type": "stream",
     "text": [
      "/Users/jwu/miniconda3/envs/mlflux/lib/python3.11/site-packages/torch/optim/lr_scheduler.py:28: UserWarning: The verbose parameter is deprecated. Please use get_last_lr() to access the learning rate.\n",
      "  warnings.warn(\"The verbose parameter is deprecated. Please use get_last_lr() \"\n"
     ]
    },
    {
     "name": "stdout",
     "output_type": "stream",
     "text": [
      "Early stopping triggered after 203 epochs.\n",
      "training took 17.38 seconds, loss at last epoch -56.1355\n",
      "Training samples: 7424\n",
      "Validating samples: 2649\n",
      "Testing samples: 2649\n"
     ]
    },
    {
     "name": "stderr",
     "output_type": "stream",
     "text": [
      "/Users/jwu/miniconda3/envs/mlflux/lib/python3.11/site-packages/torch/optim/lr_scheduler.py:28: UserWarning: The verbose parameter is deprecated. Please use get_last_lr() to access the learning rate.\n",
      "  warnings.warn(\"The verbose parameter is deprecated. Please use get_last_lr() \"\n"
     ]
    },
    {
     "name": "stdout",
     "output_type": "stream",
     "text": [
      "Early stopping triggered after 199 epochs.\n",
      "training took 15.14 seconds, loss at last epoch -60.4006\n",
      "Training samples: 9194\n",
      "Validating samples: 879\n",
      "Testing samples: 879\n"
     ]
    },
    {
     "name": "stderr",
     "output_type": "stream",
     "text": [
      "/Users/jwu/miniconda3/envs/mlflux/lib/python3.11/site-packages/torch/optim/lr_scheduler.py:28: UserWarning: The verbose parameter is deprecated. Please use get_last_lr() to access the learning rate.\n",
      "  warnings.warn(\"The verbose parameter is deprecated. Please use get_last_lr() \"\n"
     ]
    },
    {
     "name": "stdout",
     "output_type": "stream",
     "text": [
      "Early stopping triggered after 375 epochs.\n",
      "training took 35.27 seconds, loss at last epoch -57.8634\n",
      "Training samples: 8826\n",
      "Validating samples: 1247\n",
      "Testing samples: 1247\n"
     ]
    },
    {
     "name": "stderr",
     "output_type": "stream",
     "text": [
      "/Users/jwu/miniconda3/envs/mlflux/lib/python3.11/site-packages/torch/optim/lr_scheduler.py:28: UserWarning: The verbose parameter is deprecated. Please use get_last_lr() to access the learning rate.\n",
      "  warnings.warn(\"The verbose parameter is deprecated. Please use get_last_lr() \"\n"
     ]
    },
    {
     "name": "stdout",
     "output_type": "stream",
     "text": [
      "Early stopping triggered after 115 epochs.\n",
      "training took 10.06 seconds, loss at last epoch -40.6258\n",
      "Training samples: 9453\n",
      "Validating samples: 620\n",
      "Testing samples: 620\n"
     ]
    },
    {
     "name": "stderr",
     "output_type": "stream",
     "text": [
      "/Users/jwu/miniconda3/envs/mlflux/lib/python3.11/site-packages/torch/optim/lr_scheduler.py:28: UserWarning: The verbose parameter is deprecated. Please use get_last_lr() to access the learning rate.\n",
      "  warnings.warn(\"The verbose parameter is deprecated. Please use get_last_lr() \"\n"
     ]
    },
    {
     "name": "stdout",
     "output_type": "stream",
     "text": [
      "Early stopping triggered after 147 epochs.\n",
      "training took 13.81 seconds, loss at last epoch -54.5558\n"
     ]
    }
   ],
   "source": [
    "''' Momentum flux models '''\n",
    "momentum_model_ensem = []\n",
    "\n",
    "###### Network hyperparameter ######\n",
    "para1 = {'n_in':4,'n_out':1,'hidden_channels':[16,32,16],'ACTIVATION':'no'}\n",
    "para2 = {'n_in':4,'n_out':1,'hidden_channels':[16,32,16],'ACTIVATION':'exponential'}\n",
    "\n",
    "###### Use default weight function ######\n",
    "# from mlflux.ann import sample_weights\n",
    "###### Or define a new one ######\n",
    "def sample_weights(x):\n",
    "    return np.where(x > 18, 1.0, 1.0)\n",
    "\n",
    "for i, split in enumerate(split_ensem):\n",
    "    training_ds, validating_ds, testing_ds = data_split_psd(psd, split=split, PLOT=False, XVIS='samples')\n",
    "\n",
    "    ###### Initiate the Dataset class and use default weighting ######\n",
    "    ikeys = ['U','tsea','tair','rh']\n",
    "    okeys = ['taucx']\n",
    "    bkeys = ['taubx']\n",
    "    training_data = RealFluxDataset(training_ds, input_keys=ikeys, output_keys=okeys, bulk_keys=bkeys, weightfunc=sample_weights)\n",
    "    validating_data = RealFluxDataset(validating_ds, input_keys=ikeys, output_keys=okeys, bulk_keys=bkeys, weightfunc=sample_weights)\n",
    "    testing_data = RealFluxDataset(testing_ds, input_keys=ikeys, output_keys=okeys, bulk_keys=bkeys, weightfunc=sample_weights)\n",
    "\n",
    "    ###### Run the model 5 times ###### \n",
    "    model = Flux41diff({'mean_ann_para':para1, 'var_ann_para':para2})\n",
    "    model.datasplit = split\n",
    "    training_paras = {'batchsize':100, 'num_epochs':1000, 'lr':1e-3, 'gamma':0.2,\n",
    "                      'EARLYSTOPPING':True, 'patience':20, 'factor':0.5, 'max_epochs_without_improvement':60}\n",
    "    log = model.fit(training_data,validating_data,training_paras,VERBOSE=False)\n",
    "    momentum_model_ensem.append(model)\n",
    "    # Later we can pick one before saving but since files are pretty small they are ok \n",
    "    # model.save(fname=\"../../saved_model/full_anns_diff_3layers_split%g\" %(i+1))"
   ]
  },
  {
   "cell_type": "code",
   "execution_count": null,
   "metadata": {},
   "outputs": [],
   "source": [
    "''' Sensible flux models '''\n",
    "Qs_model_ensem = []\n",
    "\n",
    "###### Network hyperparameter ######\n",
    "para1 = {'n_in':4,'n_out':1,'hidden_channels':[16,32,16],'ACTIVATION':'no'}\n",
    "para2 = {'n_in':4,'n_out':1,'hidden_channels':[16,32,16],'ACTIVATION':'exponential'}\n",
    "\n",
    "###### Use default weight function ######\n",
    "# from mlflux.ann import sample_weights\n",
    "###### Or define a new one ######\n",
    "def sample_weights(x):\n",
    "    return np.where(x > 18, 1.0, 1.0)\n",
    "\n",
    "for i, split in enumerate(split_ensem):\n",
    "    training_ds, validating_ds, testing_ds = data_split_psd(psd, split=split, PLOT=False, XVIS='samples')\n",
    "\n",
    "    ###### Initiate the Dataset class and use default weighting ######\n",
    "    ikeys = ['U','tsea','tair','rh']\n",
    "    okeys = ['hsc']\n",
    "    bkeys = ['hsb']\n",
    "    training_data = RealFluxDataset(training_ds, input_keys=ikeys, output_keys=okeys, bulk_keys=bkeys, weightfunc=sample_weights)\n",
    "    validating_data = RealFluxDataset(validating_ds, input_keys=ikeys, output_keys=okeys, bulk_keys=bkeys, weightfunc=sample_weights)\n",
    "    testing_data = RealFluxDataset(testing_ds, input_keys=ikeys, output_keys=okeys, bulk_keys=bkeys, weightfunc=sample_weights)\n",
    "\n",
    "    ###### Run the model 5 times ###### \n",
    "    model = Flux41diff({'mean_ann_para':para1, 'var_ann_para':para2})\n",
    "    model.datasplit = split\n",
    "    training_paras = {'batchsize':100, 'num_epochs':1000, 'lr':1e-3, 'gamma':0.2,\n",
    "                      'EARLYSTOPPING':True, 'patience':20, 'factor':0.5, 'max_epochs_without_improvement':60}\n",
    "    log = model.fit(training_data,validating_data,training_paras,VERBOSE=False)\n",
    "    Qs_model_ensem.append(model)\n",
    "    # Later we can pick one before saving but since files are pretty small they are ok \n",
    "    # model.save(fname=\"../../saved_model/full_anns_diff_3layers_split%g\" %(i+1))"
   ]
  },
  {
   "cell_type": "code",
   "execution_count": null,
   "metadata": {},
   "outputs": [],
   "source": [
    "''' Latent flux models '''\n",
    "Ql_model_ensem = []\n",
    "\n",
    "###### Network hyperparameter ######\n",
    "para1 = {'n_in':4,'n_out':1,'hidden_channels':[16,32,16],'ACTIVATION':'no'}\n",
    "para2 = {'n_in':4,'n_out':1,'hidden_channels':[16,32,16],'ACTIVATION':'exponential'}\n",
    "\n",
    "###### Use default weight function ######\n",
    "# from mlflux.ann import sample_weights\n",
    "###### Or define a new one ######\n",
    "def sample_weights(x):\n",
    "    return np.where(x > 18, 1.0, 1.0)\n",
    "\n",
    "for i, split in enumerate(split_ensem):\n",
    "    training_ds, validating_ds, testing_ds = data_split_psd(psd, split=split, PLOT=False, XVIS='samples')\n",
    "\n",
    "    ###### Initiate the Dataset class and use default weighting ######\n",
    "    ikeys = ['U','tsea','tair','rh']\n",
    "    okeys = ['hlc']\n",
    "    bkeys = ['hlb']\n",
    "    training_data = RealFluxDataset(training_ds, input_keys=ikeys, output_keys=okeys, bulk_keys=bkeys, weightfunc=sample_weights)\n",
    "    validating_data = RealFluxDataset(validating_ds, input_keys=ikeys, output_keys=okeys, bulk_keys=bkeys, weightfunc=sample_weights)\n",
    "    testing_data = RealFluxDataset(testing_ds, input_keys=ikeys, output_keys=okeys, bulk_keys=bkeys, weightfunc=sample_weights)\n",
    "\n",
    "    ###### Run the model 5 times ###### \n",
    "    model = Flux41diff({'mean_ann_para':para1, 'var_ann_para':para2})\n",
    "    model.datasplit = split\n",
    "    training_paras = {'batchsize':100, 'num_epochs':1000, 'lr':1e-3, 'gamma':0.2,\n",
    "                      'EARLYSTOPPING':True, 'patience':20, 'factor':0.5, 'max_epochs_without_improvement':60}\n",
    "    log = model.fit(training_data,validating_data,training_paras,VERBOSE=False)\n",
    "    Ql_model_ensem.append(model)\n",
    "    # Later we can pick one before saving but since files are pretty small they are ok \n",
    "    # model.save(fname=\"../../saved_model/full_anns_diff_3layers_split%g\" %(i+1))"
   ]
  },
  {
   "cell_type": "code",
   "execution_count": 20,
   "metadata": {},
   "outputs": [],
   "source": [
    "''' Testing '''\n",
    "def mse_r2(ypred, ytruth):\n",
    "    ''' Assuming Nsample*Nfeatures. Change this to just keeping the last axis. '''\n",
    "    mse = np.average((ypred-ytruth)**2, axis=0)\n",
    "    r2 = 1 - np.average((ypred-ytruth)**2, axis=0)/np.var(ytruth, axis=0)\n",
    "    return (mse,r2)\n",
    "\n",
    "def evaluate_over_splits (model, keys):\n",
    "    nn_r2_splits = []; bulk_r2_splits = []\n",
    "    for i in range(6):\n",
    "        training_ds, validating_ds, testing_ds = data_split_psd(psd, split=split_ensem[i], PLOT=False, XVIS='samples', VERBOSE=False)\n",
    "        vd = RealFluxDataset(training_ds, input_keys=keys['ikeys'], output_keys=keys['okeys'], bulk_keys=keys['bkeys'], weightfunc=sample_weights)\n",
    "        scores = model.metrics(vd.X, vd.Y)    \n",
    "        bulk_mse, bulk_r2 = mse_r2(vd.Bulk.detach().numpy(), vd.Y.detach().numpy())\n",
    "        nn_r2_splits.append(scores['r2']); bulk_r2_splits.append(bulk_r2)\n",
    "    return (np.array(nn_r2_splits).squeeze(), np.array(bulk_r2_splits).squeeze())\n",
    "        # print('NN r2 %.4f, bulk r2 %.4f' %(scores['r2'], bulk_r2))"
   ]
  },
  {
   "cell_type": "code",
   "execution_count": 21,
   "metadata": {},
   "outputs": [
    {
     "name": "stdout",
     "output_type": "stream",
     "text": [
      "[0.800586   0.83716357 0.85131407 0.80733216 0.81876504 0.8269768 ] [0.7882633  0.8452643  0.86462414 0.81711197 0.8268765  0.8362277 ]\n",
      "[0.79365724 0.83413196 0.8476044  0.8085647  0.8162339  0.82472193] [0.7882633  0.8452643  0.86462414 0.81711197 0.8268765  0.8362277 ]\n",
      "[0.7853234  0.83207357 0.8493099  0.80674505 0.8144113  0.8219383 ] [0.7882633  0.8452643  0.86462414 0.81711197 0.8268765  0.8362277 ]\n",
      "[0.78960156 0.83667463 0.8516655  0.8130681  0.8193831  0.82719296] [0.7882633  0.8452643  0.86462414 0.81711197 0.8268765  0.8362277 ]\n",
      "[0.7913508  0.83424455 0.8482119  0.8089639  0.81957495 0.8247812 ] [0.7882633  0.8452643  0.86462414 0.81711197 0.8268765  0.8362277 ]\n",
      "[0.7952812  0.841316   0.85654676 0.81497455 0.8231603  0.8319459 ] [0.7882633  0.8452643  0.86462414 0.81711197 0.8268765  0.8362277 ]\n"
     ]
    }
   ],
   "source": [
    "keys = {'ikeys':['U','tsea','tair','rh'], 'okeys':['taucx'], 'bkeys':['taubx']}\n",
    "for model in momentum_model_ensem:\n",
    "    model.nn_r2_splits, model.bulk_r2_splits = evaluate_over_splits(model, keys)\n",
    "    print(model.nn_r2_splits, model.bulk_r2_splits)"
   ]
  },
  {
   "cell_type": "code",
   "execution_count": 29,
   "metadata": {},
   "outputs": [
    {
     "data": {
      "text/plain": [
       "(0.6, 1.0)"
      ]
     },
     "execution_count": 29,
     "metadata": {},
     "output_type": "execute_result"
    },
    {
     "data": {
      "image/png": "[encoded data removed]",
      "text/plain": [
       "<Figure size 640x480 with 1 Axes>"
      ]
     },
     "metadata": {},
     "output_type": "display_data"
    }
   ],
   "source": [
    "for model in momentum_model_ensem:\n",
    "    plt.plot(model.nn_r2_splits,'.-')\n",
    "plt.plot(model.bulk_r2_splits,'.-', c='k')\n",
    "plt.ylim([0.6,1])"
   ]
  }
 ],
 "metadata": {
  "kernelspec": {
   "display_name": "mlflux",
   "language": "python",
   "name": "mlflux"
  },
  "language_info": {
   "codemirror_mode": {
    "name": "ipython",
    "version": 3
   },
   "file_extension": ".py",
   "mimetype": "text/x-python",
   "name": "python",
   "nbconvert_exporter": "python",
   "pygments_lexer": "ipython3",
   "version": "3.11.5"
  }
 },
 "nbformat": 4,
 "nbformat_minor": 2
}
