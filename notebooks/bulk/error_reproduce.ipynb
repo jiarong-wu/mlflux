{
 "cells": [
  {
   "cell_type": "code",
   "execution_count": 1,
   "id": "3a1c27cb-2087-41b0-9129-23e4b92f63ea",
   "metadata": {},
   "outputs": [],
   "source": [
    "# For now aerobulk installation only worked on greene not laptop\n",
    "import xarray as xr\n",
    "import numpy as np\n",
    "from matplotlib import pyplot as plt\n",
    "from aerobulk.flux import noskin_np, skin_np, noskin, skin\n",
    "\n",
    "%load_ext autoreload\n",
    "%autoreload 3"
   ]
  },
  {
   "cell_type": "code",
   "execution_count": 2,
   "id": "b38bc713-ee10-4334-9807-3aadda7c2a5c",
   "metadata": {},
   "outputs": [],
   "source": [
    "# atm has 576 * 360 grid\n",
    "# ocn has 3600 * 2700 grid\n",
    "\n",
    "# Read in data\n",
    "from mlflux.utils import sort_longitude\n",
    "\n",
    "atm = xr.open_dataset('../../data/Global/GFDL_CM2p6_control_atm_0101.nc', chunks={})\n",
    "atm['t_ref'] = atm['t_ref'] \n",
    "\n",
    "ocn = xr.open_dataset('../../data/Global/GFDL_CM2p6_control_ocn_0101.nc', chunks={})\n",
    "ocn = ocn.isel(time=0)\n",
    "\n",
    "ocn = ocn.rename({'xt_ocean': 'lon', 'yt_ocean': 'lat'})\n",
    "ocn = sort_longitude(ocn)\n",
    "atm['sst'] = ocn.surface_temp.interp(lon=atm['grid_xt'],lat=atm['grid_yt']) + 273.15\n",
    "ocn = ocn.rename({'lon': 'xt_ocean', 'lat': 'yt_ocean'})\n",
    "\n",
    "ocn = ocn.rename({'xu_ocean': 'lon', 'yu_ocean': 'lat'})\n",
    "ocn = sort_longitude(ocn)\n",
    "atm['usurf'] = ocn.usurf.interp(lon=atm['grid_xt'],lat=atm['grid_yt'])\n",
    "atm['vsurf'] = ocn.vsurf.interp(lon=atm['grid_xt'],lat=atm['grid_yt'])\n",
    "ocn = ocn.rename({'lon': 'xu_ocean', 'lat': 'yu_ocean'})"
   ]
  },
  {
   "cell_type": "code",
   "execution_count": 3,
   "id": "31c2a4e9-74f5-463f-b998-291ddf265cfc",
   "metadata": {},
   "outputs": [],
   "source": [
    "# To make sure that the surface pressure field is in a valid range\n",
    "atm[\"ps_adjust\"] = atm[\"ps\"].where((atm[\"ps\"] < 110000) & (atm[\"ps\"] > 80000), 101000)\n",
    "\n",
    "# To make sure that nans match the sst land mask\n",
    "sst_wet_mask = ~np.isnan(atm['sst'])\n",
    "ds = atm.where(sst_wet_mask.compute())"
   ]
  },
  {
   "cell_type": "code",
   "execution_count": 6,
   "id": "462c75fd-4a1f-4462-a6aa-19914377afee",
   "metadata": {},
   "outputs": [
    {
     "name": "stderr",
     "output_type": "stream",
     "text": [
      "/ext3/miniconda3/lib/python3.11/site-packages/aerobulk/flux.py:280: UserWarning: Checking for misaligned nans and values outside of the valid range is performed by default, but reduces performance. \n",
      "If you are sure your data is valid you can deactivate these checks by setting `input_range_check=False`\n",
      "  warnings.warn(performance_msg)\n"
     ]
    },
    {
     "name": "stdout",
     "output_type": "stream",
     "text": [
      "[[nan nan nan ... nan nan nan]\n",
      " [nan nan nan ... nan nan nan]\n",
      " [nan nan nan ... nan nan nan]\n",
      " ...\n",
      " [nan nan nan ... nan nan nan]\n",
      " [nan nan nan ... nan nan nan]\n",
      " [nan nan nan ... nan nan nan]]\n"
     ]
    }
   ],
   "source": [
    "# Change the grid_yt range from 40 to 39 generates all nans\n",
    "ds = atm.where(sst_wet_mask.compute()).isel(grid_xt=slice(None,None), grid_yt=slice(39,-1))\n",
    "\n",
    "ql, qh, taux, tauy, evap = \\\n",
    "noskin(sst=ds.sst, t_zt=ds.t_ref, \n",
    "       hum_zt=ds.q_ref, u_zu=ds.wind, \n",
    "       v_zu=ds.wind*0, slp=ds.ps_adjust, \n",
    "       algo='coare3p0', zt=ds.wind/ds.wind*2., zu=ds.wind/ds.wind*10.,\n",
    "       input_range_check=True)\n",
    "\n",
    "print(qh.values)"
   ]
  },
  {
   "cell_type": "code",
   "execution_count": null,
   "id": "25d418f7-d3f7-4586-b94f-744928e170a2",
   "metadata": {},
   "outputs": [],
   "source": []
  }
 ],
 "metadata": {
  "kernelspec": {
   "display_name": "mlflux",
   "language": "python",
   "name": "mlflux"
  },
  "language_info": {
   "codemirror_mode": {
    "name": "ipython",
    "version": 3
   },
   "file_extension": ".py",
   "mimetype": "text/x-python",
   "name": "python",
   "nbconvert_exporter": "python",
   "pygments_lexer": "ipython3",
   "version": "3.11.5"
  }
 },
 "nbformat": 4,
 "nbformat_minor": 5
}
